{
 "cells": [
  {
   "cell_type": "markdown",
   "metadata": {},
   "source": [
    "# Starbucks Capstone Challenge\n",
    "\n",
    "### Introduction\n",
    "\n",
    "This data set contains simulated data that mimics customer behavior on the Starbucks rewards mobile app. Once every few days, Starbucks sends out an offer to users of the mobile app. An offer can be merely an advertisement for a drink or an actual offer such as a discount or BOGO (buy one get one free). Some users might not receive any offer during certain weeks. \n",
    "\n",
    "Not all users receive the same offer, and that is the challenge to solve with this data set.\n",
    "\n",
    "Your task is to combine transaction, demographic and offer data to determine which demographic groups respond best to which offer type. This data set is a simplified version of the real Starbucks app because the underlying simulator only has one product whereas Starbucks actually sells dozens of products.\n",
    "\n",
    "Every offer has a validity period before the offer expires. As an example, a BOGO offer might be valid for only 5 days. You'll see in the data set that informational offers have a validity period even though these ads are merely providing information about a product; for example, if an informational offer has 7 days of validity, you can assume the customer is feeling the influence of the offer for 7 days after receiving the advertisement.\n",
    "\n",
    "You'll be given transactional data showing user purchases made on the app including the timestamp of purchase and the amount of money spent on a purchase. This transactional data also has a record for each offer that a user receives as well as a record for when a user actually views the offer. There are also records for when a user completes an offer. \n",
    "\n",
    "Keep in mind as well that someone using the app might make a purchase through the app without having received an offer or seen an offer.\n",
    "\n",
    "### Example\n",
    "\n",
    "To give an example, a user could receive a discount offer buy 10 dollars get 2 off on Monday. The offer is valid for 10 days from receipt. If the customer accumulates at least 10 dollars in purchases during the validity period, the customer completes the offer.\n",
    "\n",
    "However, there are a few things to watch out for in this data set. Customers do not opt into the offers that they receive; in other words, a user can receive an offer, never actually view the offer, and still complete the offer. For example, a user might receive the \"buy 10 dollars get 2 dollars off offer\", but the user never opens the offer during the 10 day validity period. The customer spends 15 dollars during those ten days. There will be an offer completion record in the data set; however, the customer was not influenced by the offer because the customer never viewed the offer.\n",
    "\n",
    "### Cleaning\n",
    "\n",
    "This makes data cleaning especially important and tricky.\n",
    "\n",
    "You'll also want to take into account that some demographic groups will make purchases even if they don't receive an offer. From a business perspective, if a customer is going to make a 10 dollar purchase without an offer anyway, you wouldn't want to send a buy 10 dollars get 2 dollars off offer. You'll want to try to assess what a certain demographic group will buy when not receiving any offers.\n",
    "\n",
    "### Final Advice\n",
    "\n",
    "Because this is a capstone project, you are free to analyze the data any way you see fit. For example, you could build a machine learning model that predicts how much someone will spend based on demographics and offer type. Or you could build a model that predicts whether or not someone will respond to an offer. Or, you don't need to build a machine learning model at all. You could develop a set of heuristics that determine what offer you should send to each customer (i.e., 75 percent of women customers who were 35 years old responded to offer A vs 40 percent from the same demographic to offer B, so send offer A)."
   ]
  },
  {
   "cell_type": "markdown",
   "metadata": {},
   "source": [
    "# Data Sets\n",
    "\n",
    "The data is contained in three files:\n",
    "\n",
    "* portfolio.json - containing offer ids and meta data about each offer (duration, type, etc.)\n",
    "* profile.json - demographic data for each customer\n",
    "* transcript.json - records for transactions, offers received, offers viewed, and offers completed\n",
    "\n",
    "Here is the schema and explanation of each variable in the files:\n",
    "\n",
    "**portfolio.json**\n",
    "* id (string) - offer id\n",
    "* offer_type (string) - type of offer ie BOGO, discount, informational\n",
    "* difficulty (int) - minimum required spend to complete an offer\n",
    "* reward (int) - reward given for completing an offer\n",
    "* duration (int) - time for offer to be open, in days\n",
    "* channels (list of strings)\n",
    "\n",
    "**profile.json**\n",
    "* age (int) - age of the customer \n",
    "* became_member_on (int) - date when customer created an app account\n",
    "* gender (str) - gender of the customer (note some entries contain 'O' for other rather than M or F)\n",
    "* id (str) - customer id\n",
    "* income (float) - customer's income\n",
    "\n",
    "**transcript.json**\n",
    "* event (str) - record description (ie transaction, offer received, offer viewed, etc.)\n",
    "* person (str) - customer id\n",
    "* time (int) - time in hours since start of test. The data begins at time t=0\n",
    "* value - (dict of strings) - either an offer id or transaction amount depending on the record\n",
    "\n",
    "**Note:** If you are using the workspace, you will need to go to the terminal and run the command `conda update pandas` before reading in the files. This is because the version of pandas in the workspace cannot read in the transcript.json file correctly, but the newest version of pandas can. You can access the termnal from the orange icon in the top left of this notebook.  \n",
    "\n",
    "You can see how to access the terminal and how the install works using the two images below.  First you need to access the terminal:\n",
    "\n",
    "<img src=\"pic1.png\"/>\n",
    "\n",
    "Then you will want to run the above command:\n",
    "\n",
    "<img src=\"pic2.png\"/>\n",
    "\n",
    "Finally, when you enter back into the notebook (use the jupyter icon again), you should be able to run the below cell without any errors."
   ]
  },
  {
   "cell_type": "markdown",
   "metadata": {},
   "source": [
    "# Importations"
   ]
  },
  {
   "cell_type": "code",
   "execution_count": 363,
   "metadata": {},
   "outputs": [],
   "source": [
    "# Libraries for data preparation\n",
    "import re\n",
    "from sklearn.preprocessing import StandardScaler,LabelEncoder\n",
    "from sklearn.model_selection import train_test_split\n",
    "from sklearn.feature_selection import mutual_info_classif, SelectKBest\n",
    "\n",
    "# Libraries for Modeling\n",
    "from sklearn.neighbors import KNeighborsClassifier  \n",
    "from sklearn.linear_model import LogisticRegression\n",
    "from sklearn.naive_bayes import GaussianNB\n",
    "\n",
    "# Libraries for Testing\n",
    "from sklearn.metrics import confusion_matrix\n",
    "from sklearn.metrics import precision_score, recall_score, f1_score, accuracy_score\n",
    "from sklearn.metrics import classification_report\n",
    "from sklearn.model_selection import KFold\n",
    "from sklearn.model_selection import cross_val_score\n",
    "\n",
    "# Libraries for visualisation\n",
    "import matplotlib.pyplot as plt\n",
    "import seaborn as sns"
   ]
  },
  {
   "cell_type": "code",
   "execution_count": 364,
   "metadata": {},
   "outputs": [],
   "source": [
    "import pandas as pd\n",
    "import numpy as np\n",
    "import math\n",
    "import json\n",
    "% matplotlib inline\n",
    "\n",
    "# read in the json files\n",
    "portfolio = pd.read_json('data/portfolio.json', orient='records', lines=True)\n",
    "profile = pd.read_json('data/profile.json', orient='records', lines=True)\n",
    "transcript = pd.read_json('data/transcript.json', orient='records', lines=True)"
   ]
  },
  {
   "cell_type": "markdown",
   "metadata": {},
   "source": [
    "# Data cleansing"
   ]
  },
  {
   "cell_type": "markdown",
   "metadata": {},
   "source": [
    "### The portfolio dataframe needs no cleansing no duplicates or nulls"
   ]
  },
  {
   "cell_type": "code",
   "execution_count": 365,
   "metadata": {},
   "outputs": [
    {
     "data": {
      "text/html": [
       "<div>\n",
       "<style scoped>\n",
       "    .dataframe tbody tr th:only-of-type {\n",
       "        vertical-align: middle;\n",
       "    }\n",
       "\n",
       "    .dataframe tbody tr th {\n",
       "        vertical-align: top;\n",
       "    }\n",
       "\n",
       "    .dataframe thead th {\n",
       "        text-align: right;\n",
       "    }\n",
       "</style>\n",
       "<table border=\"1\" class=\"dataframe\">\n",
       "  <thead>\n",
       "    <tr style=\"text-align: right;\">\n",
       "      <th></th>\n",
       "      <th>channels</th>\n",
       "      <th>difficulty</th>\n",
       "      <th>duration</th>\n",
       "      <th>id</th>\n",
       "      <th>offer_type</th>\n",
       "      <th>reward</th>\n",
       "    </tr>\n",
       "  </thead>\n",
       "  <tbody>\n",
       "    <tr>\n",
       "      <th>0</th>\n",
       "      <td>[email, mobile, social]</td>\n",
       "      <td>10</td>\n",
       "      <td>7</td>\n",
       "      <td>ae264e3637204a6fb9bb56bc8210ddfd</td>\n",
       "      <td>bogo</td>\n",
       "      <td>10</td>\n",
       "    </tr>\n",
       "    <tr>\n",
       "      <th>1</th>\n",
       "      <td>[web, email, mobile, social]</td>\n",
       "      <td>10</td>\n",
       "      <td>5</td>\n",
       "      <td>4d5c57ea9a6940dd891ad53e9dbe8da0</td>\n",
       "      <td>bogo</td>\n",
       "      <td>10</td>\n",
       "    </tr>\n",
       "    <tr>\n",
       "      <th>2</th>\n",
       "      <td>[web, email, mobile]</td>\n",
       "      <td>0</td>\n",
       "      <td>4</td>\n",
       "      <td>3f207df678b143eea3cee63160fa8bed</td>\n",
       "      <td>informational</td>\n",
       "      <td>0</td>\n",
       "    </tr>\n",
       "    <tr>\n",
       "      <th>3</th>\n",
       "      <td>[web, email, mobile]</td>\n",
       "      <td>5</td>\n",
       "      <td>7</td>\n",
       "      <td>9b98b8c7a33c4b65b9aebfe6a799e6d9</td>\n",
       "      <td>bogo</td>\n",
       "      <td>5</td>\n",
       "    </tr>\n",
       "    <tr>\n",
       "      <th>4</th>\n",
       "      <td>[web, email]</td>\n",
       "      <td>20</td>\n",
       "      <td>10</td>\n",
       "      <td>0b1e1539f2cc45b7b9fa7c272da2e1d7</td>\n",
       "      <td>discount</td>\n",
       "      <td>5</td>\n",
       "    </tr>\n",
       "  </tbody>\n",
       "</table>\n",
       "</div>"
      ],
      "text/plain": [
       "                       channels  difficulty  duration  \\\n",
       "0       [email, mobile, social]          10         7   \n",
       "1  [web, email, mobile, social]          10         5   \n",
       "2          [web, email, mobile]           0         4   \n",
       "3          [web, email, mobile]           5         7   \n",
       "4                  [web, email]          20        10   \n",
       "\n",
       "                                 id     offer_type  reward  \n",
       "0  ae264e3637204a6fb9bb56bc8210ddfd           bogo      10  \n",
       "1  4d5c57ea9a6940dd891ad53e9dbe8da0           bogo      10  \n",
       "2  3f207df678b143eea3cee63160fa8bed  informational       0  \n",
       "3  9b98b8c7a33c4b65b9aebfe6a799e6d9           bogo       5  \n",
       "4  0b1e1539f2cc45b7b9fa7c272da2e1d7       discount       5  "
      ]
     },
     "execution_count": 365,
     "metadata": {},
     "output_type": "execute_result"
    }
   ],
   "source": [
    "portfolio.head()"
   ]
  },
  {
   "cell_type": "code",
   "execution_count": 366,
   "metadata": {},
   "outputs": [
    {
     "name": "stdout",
     "output_type": "stream",
     "text": [
      "<class 'pandas.core.frame.DataFrame'>\n",
      "RangeIndex: 10 entries, 0 to 9\n",
      "Data columns (total 6 columns):\n",
      "channels      10 non-null object\n",
      "difficulty    10 non-null int64\n",
      "duration      10 non-null int64\n",
      "id            10 non-null object\n",
      "offer_type    10 non-null object\n",
      "reward        10 non-null int64\n",
      "dtypes: int64(3), object(3)\n",
      "memory usage: 560.0+ bytes\n",
      "None\n"
     ]
    }
   ],
   "source": [
    "print(portfolio.info())"
   ]
  },
  {
   "cell_type": "code",
   "execution_count": 367,
   "metadata": {},
   "outputs": [
    {
     "name": "stdout",
     "output_type": "stream",
     "text": [
      "       difficulty   duration     reward\n",
      "count   10.000000  10.000000  10.000000\n",
      "mean     7.700000   6.500000   4.200000\n",
      "std      5.831905   2.321398   3.583915\n",
      "min      0.000000   3.000000   0.000000\n",
      "25%      5.000000   5.000000   2.000000\n",
      "50%      8.500000   7.000000   4.000000\n",
      "75%     10.000000   7.000000   5.000000\n",
      "max     20.000000  10.000000  10.000000\n"
     ]
    }
   ],
   "source": [
    "print(portfolio.describe())"
   ]
  },
  {
   "cell_type": "code",
   "execution_count": 368,
   "metadata": {},
   "outputs": [
    {
     "name": "stdout",
     "output_type": "stream",
     "text": [
      "[[<matplotlib.axes._subplots.AxesSubplot object at 0x7f56a274beb8>\n",
      "  <matplotlib.axes._subplots.AxesSubplot object at 0x7f56a2775da0>]\n",
      " [<matplotlib.axes._subplots.AxesSubplot object at 0x7f56a2753ac8>\n",
      "  <matplotlib.axes._subplots.AxesSubplot object at 0x7f56a2744518>]]\n"
     ]
    },
    {
     "data": {
      "image/png": "[encoded data removed]",
      "text/plain": [
       "<matplotlib.figure.Figure at 0x7f56a2728dd8>"
      ]
     },
     "metadata": {
      "needs_background": "light"
     },
     "output_type": "display_data"
    }
   ],
   "source": [
    "print(portfolio.hist())"
   ]
  },
  {
   "cell_type": "code",
   "execution_count": 369,
   "metadata": {},
   "outputs": [
    {
     "name": "stdout",
     "output_type": "stream",
     "text": [
      "portfolio\n",
      "channels      0\n",
      "difficulty    0\n",
      "duration      0\n",
      "id            0\n",
      "offer_type    0\n",
      "reward        0\n",
      "dtype: int64\n"
     ]
    }
   ],
   "source": [
    "# No nulls for portofolio\n",
    "print(\"portfolio\")\n",
    "print(portfolio.isnull().sum())"
   ]
  },
  {
   "cell_type": "code",
   "execution_count": 370,
   "metadata": {},
   "outputs": [
    {
     "name": "stdout",
     "output_type": "stream",
     "text": [
      "False\n"
     ]
    }
   ],
   "source": [
    "# we have no duplicates \n",
    "print(portfolio['id'].duplicated().any())"
   ]
  },
  {
   "cell_type": "markdown",
   "metadata": {},
   "source": [
    "### The Profile dataframe cleansing"
   ]
  },
  {
   "cell_type": "code",
   "execution_count": 371,
   "metadata": {},
   "outputs": [
    {
     "data": {
      "text/html": [
       "<div>\n",
       "<style scoped>\n",
       "    .dataframe tbody tr th:only-of-type {\n",
       "        vertical-align: middle;\n",
       "    }\n",
       "\n",
       "    .dataframe tbody tr th {\n",
       "        vertical-align: top;\n",
       "    }\n",
       "\n",
       "    .dataframe thead th {\n",
       "        text-align: right;\n",
       "    }\n",
       "</style>\n",
       "<table border=\"1\" class=\"dataframe\">\n",
       "  <thead>\n",
       "    <tr style=\"text-align: right;\">\n",
       "      <th></th>\n",
       "      <th>age</th>\n",
       "      <th>became_member_on</th>\n",
       "      <th>gender</th>\n",
       "      <th>id</th>\n",
       "      <th>income</th>\n",
       "    </tr>\n",
       "  </thead>\n",
       "  <tbody>\n",
       "    <tr>\n",
       "      <th>0</th>\n",
       "      <td>118</td>\n",
       "      <td>20170212</td>\n",
       "      <td>None</td>\n",
       "      <td>68be06ca386d4c31939f3a4f0e3dd783</td>\n",
       "      <td>NaN</td>\n",
       "    </tr>\n",
       "    <tr>\n",
       "      <th>1</th>\n",
       "      <td>55</td>\n",
       "      <td>20170715</td>\n",
       "      <td>F</td>\n",
       "      <td>0610b486422d4921ae7d2bf64640c50b</td>\n",
       "      <td>112000.0</td>\n",
       "    </tr>\n",
       "    <tr>\n",
       "      <th>2</th>\n",
       "      <td>118</td>\n",
       "      <td>20180712</td>\n",
       "      <td>None</td>\n",
       "      <td>38fe809add3b4fcf9315a9694bb96ff5</td>\n",
       "      <td>NaN</td>\n",
       "    </tr>\n",
       "    <tr>\n",
       "      <th>3</th>\n",
       "      <td>75</td>\n",
       "      <td>20170509</td>\n",
       "      <td>F</td>\n",
       "      <td>78afa995795e4d85b5d9ceeca43f5fef</td>\n",
       "      <td>100000.0</td>\n",
       "    </tr>\n",
       "    <tr>\n",
       "      <th>4</th>\n",
       "      <td>118</td>\n",
       "      <td>20170804</td>\n",
       "      <td>None</td>\n",
       "      <td>a03223e636434f42ac4c3df47e8bac43</td>\n",
       "      <td>NaN</td>\n",
       "    </tr>\n",
       "  </tbody>\n",
       "</table>\n",
       "</div>"
      ],
      "text/plain": [
       "   age  became_member_on gender                                id    income\n",
       "0  118          20170212   None  68be06ca386d4c31939f3a4f0e3dd783       NaN\n",
       "1   55          20170715      F  0610b486422d4921ae7d2bf64640c50b  112000.0\n",
       "2  118          20180712   None  38fe809add3b4fcf9315a9694bb96ff5       NaN\n",
       "3   75          20170509      F  78afa995795e4d85b5d9ceeca43f5fef  100000.0\n",
       "4  118          20170804   None  a03223e636434f42ac4c3df47e8bac43       NaN"
      ]
     },
     "execution_count": 371,
     "metadata": {},
     "output_type": "execute_result"
    }
   ],
   "source": [
    "# profile.shape\n",
    "profile.head()"
   ]
  },
  {
   "cell_type": "code",
   "execution_count": 372,
   "metadata": {},
   "outputs": [
    {
     "name": "stdout",
     "output_type": "stream",
     "text": [
      "<class 'pandas.core.frame.DataFrame'>\n",
      "RangeIndex: 17000 entries, 0 to 16999\n",
      "Data columns (total 5 columns):\n",
      "age                 17000 non-null int64\n",
      "became_member_on    17000 non-null int64\n",
      "gender              14825 non-null object\n",
      "id                  17000 non-null object\n",
      "income              14825 non-null float64\n",
      "dtypes: float64(1), int64(2), object(2)\n",
      "memory usage: 664.1+ KB\n",
      "None\n"
     ]
    }
   ],
   "source": [
    "print(profile.info())"
   ]
  },
  {
   "cell_type": "code",
   "execution_count": 373,
   "metadata": {},
   "outputs": [
    {
     "name": "stdout",
     "output_type": "stream",
     "text": [
      "                age  became_member_on         income\n",
      "count  17000.000000      1.700000e+04   14825.000000\n",
      "mean      62.531412      2.016703e+07   65404.991568\n",
      "std       26.738580      1.167750e+04   21598.299410\n",
      "min       18.000000      2.013073e+07   30000.000000\n",
      "25%       45.000000      2.016053e+07   49000.000000\n",
      "50%       58.000000      2.017080e+07   64000.000000\n",
      "75%       73.000000      2.017123e+07   80000.000000\n",
      "max      118.000000      2.018073e+07  120000.000000\n"
     ]
    }
   ],
   "source": [
    "print(profile.describe())"
   ]
  },
  {
   "cell_type": "code",
   "execution_count": 374,
   "metadata": {},
   "outputs": [
    {
     "name": "stdout",
     "output_type": "stream",
     "text": [
      "[[<matplotlib.axes._subplots.AxesSubplot object at 0x7f56c14a33c8>\n",
      "  <matplotlib.axes._subplots.AxesSubplot object at 0x7f56a2908358>]\n",
      " [<matplotlib.axes._subplots.AxesSubplot object at 0x7f56a299ab70>\n",
      "  <matplotlib.axes._subplots.AxesSubplot object at 0x7f56a298e2e8>]]\n"
     ]
    },
    {
     "data": {
      "image/png": "[encoded data removed]",
      "text/plain": [
       "<matplotlib.figure.Figure at 0x7f56a2930da0>"
      ]
     },
     "metadata": {
      "needs_background": "light"
     },
     "output_type": "display_data"
    }
   ],
   "source": [
    "print(profile.hist())"
   ]
  },
  {
   "cell_type": "code",
   "execution_count": 375,
   "metadata": {},
   "outputs": [
    {
     "name": "stdout",
     "output_type": "stream",
     "text": [
      "profile\n",
      "age                    0\n",
      "became_member_on       0\n",
      "gender              2175\n",
      "id                     0\n",
      "income              2175\n",
      "dtype: int64\n"
     ]
    }
   ],
   "source": [
    "print(\"profile\")\n",
    "print(profile.isnull().sum())"
   ]
  },
  {
   "cell_type": "code",
   "execution_count": 234,
   "metadata": {},
   "outputs": [],
   "source": [
    "# Replace missing values in 'income' column with the mean\n",
    "profile['income'].fillna((profile['income'].mean()), inplace=True)"
   ]
  },
  {
   "cell_type": "code",
   "execution_count": 376,
   "metadata": {},
   "outputs": [],
   "source": [
    "# Replace missing values in 'gender' column with the O 'others'\n",
    "profile['gender'] = profile['gender'].fillna('O')"
   ]
  },
  {
   "cell_type": "code",
   "execution_count": 391,
   "metadata": {},
   "outputs": [],
   "source": [
    "# impute the missing ages taht are labeled 118 by mean to avoid outliers\n",
    "profile['age'] = profile['age'].replace(118, profile['age'].mean())"
   ]
  },
  {
   "cell_type": "code",
   "execution_count": 392,
   "metadata": {},
   "outputs": [
    {
     "data": {
      "text/html": [
       "<div>\n",
       "<style scoped>\n",
       "    .dataframe tbody tr th:only-of-type {\n",
       "        vertical-align: middle;\n",
       "    }\n",
       "\n",
       "    .dataframe tbody tr th {\n",
       "        vertical-align: top;\n",
       "    }\n",
       "\n",
       "    .dataframe thead th {\n",
       "        text-align: right;\n",
       "    }\n",
       "</style>\n",
       "<table border=\"1\" class=\"dataframe\">\n",
       "  <thead>\n",
       "    <tr style=\"text-align: right;\">\n",
       "      <th></th>\n",
       "      <th>age</th>\n",
       "      <th>became_member_on</th>\n",
       "      <th>gender</th>\n",
       "      <th>id</th>\n",
       "      <th>income</th>\n",
       "    </tr>\n",
       "  </thead>\n",
       "  <tbody>\n",
       "    <tr>\n",
       "      <th>0</th>\n",
       "      <td>62.531412</td>\n",
       "      <td>20170212</td>\n",
       "      <td>O</td>\n",
       "      <td>68be06ca386d4c31939f3a4f0e3dd783</td>\n",
       "      <td>NaN</td>\n",
       "    </tr>\n",
       "    <tr>\n",
       "      <th>1</th>\n",
       "      <td>55.000000</td>\n",
       "      <td>20170715</td>\n",
       "      <td>F</td>\n",
       "      <td>0610b486422d4921ae7d2bf64640c50b</td>\n",
       "      <td>112000.0</td>\n",
       "    </tr>\n",
       "    <tr>\n",
       "      <th>2</th>\n",
       "      <td>62.531412</td>\n",
       "      <td>20180712</td>\n",
       "      <td>O</td>\n",
       "      <td>38fe809add3b4fcf9315a9694bb96ff5</td>\n",
       "      <td>NaN</td>\n",
       "    </tr>\n",
       "    <tr>\n",
       "      <th>3</th>\n",
       "      <td>75.000000</td>\n",
       "      <td>20170509</td>\n",
       "      <td>F</td>\n",
       "      <td>78afa995795e4d85b5d9ceeca43f5fef</td>\n",
       "      <td>100000.0</td>\n",
       "    </tr>\n",
       "    <tr>\n",
       "      <th>4</th>\n",
       "      <td>62.531412</td>\n",
       "      <td>20170804</td>\n",
       "      <td>O</td>\n",
       "      <td>a03223e636434f42ac4c3df47e8bac43</td>\n",
       "      <td>NaN</td>\n",
       "    </tr>\n",
       "  </tbody>\n",
       "</table>\n",
       "</div>"
      ],
      "text/plain": [
       "         age  became_member_on gender                                id  \\\n",
       "0  62.531412          20170212      O  68be06ca386d4c31939f3a4f0e3dd783   \n",
       "1  55.000000          20170715      F  0610b486422d4921ae7d2bf64640c50b   \n",
       "2  62.531412          20180712      O  38fe809add3b4fcf9315a9694bb96ff5   \n",
       "3  75.000000          20170509      F  78afa995795e4d85b5d9ceeca43f5fef   \n",
       "4  62.531412          20170804      O  a03223e636434f42ac4c3df47e8bac43   \n",
       "\n",
       "     income  \n",
       "0       NaN  \n",
       "1  112000.0  \n",
       "2       NaN  \n",
       "3  100000.0  \n",
       "4       NaN  "
      ]
     },
     "execution_count": 392,
     "metadata": {},
     "output_type": "execute_result"
    }
   ],
   "source": [
    "profile.head()"
   ]
  },
  {
   "cell_type": "code",
   "execution_count": 393,
   "metadata": {},
   "outputs": [
    {
     "name": "stdout",
     "output_type": "stream",
     "text": [
      "False\n"
     ]
    }
   ],
   "source": [
    "# we have no duplicates \n",
    "print(profile['id'].duplicated().any())"
   ]
  },
  {
   "cell_type": "markdown",
   "metadata": {},
   "source": [
    "### The Transcript dataframe cleansing"
   ]
  },
  {
   "cell_type": "code",
   "execution_count": 394,
   "metadata": {},
   "outputs": [
    {
     "data": {
      "text/html": [
       "<div>\n",
       "<style scoped>\n",
       "    .dataframe tbody tr th:only-of-type {\n",
       "        vertical-align: middle;\n",
       "    }\n",
       "\n",
       "    .dataframe tbody tr th {\n",
       "        vertical-align: top;\n",
       "    }\n",
       "\n",
       "    .dataframe thead th {\n",
       "        text-align: right;\n",
       "    }\n",
       "</style>\n",
       "<table border=\"1\" class=\"dataframe\">\n",
       "  <thead>\n",
       "    <tr style=\"text-align: right;\">\n",
       "      <th></th>\n",
       "      <th>event</th>\n",
       "      <th>id</th>\n",
       "      <th>time</th>\n",
       "      <th>value</th>\n",
       "    </tr>\n",
       "  </thead>\n",
       "  <tbody>\n",
       "    <tr>\n",
       "      <th>0</th>\n",
       "      <td>offer received</td>\n",
       "      <td>78afa995795e4d85b5d9ceeca43f5fef</td>\n",
       "      <td>0</td>\n",
       "      <td>{'offer id': '9b98b8c7a33c4b65b9aebfe6a799e6d9'}</td>\n",
       "    </tr>\n",
       "    <tr>\n",
       "      <th>1</th>\n",
       "      <td>offer received</td>\n",
       "      <td>a03223e636434f42ac4c3df47e8bac43</td>\n",
       "      <td>0</td>\n",
       "      <td>{'offer id': '0b1e1539f2cc45b7b9fa7c272da2e1d7'}</td>\n",
       "    </tr>\n",
       "    <tr>\n",
       "      <th>2</th>\n",
       "      <td>offer received</td>\n",
       "      <td>e2127556f4f64592b11af22de27a7932</td>\n",
       "      <td>0</td>\n",
       "      <td>{'offer id': '2906b810c7d4411798c6938adc9daaa5'}</td>\n",
       "    </tr>\n",
       "    <tr>\n",
       "      <th>3</th>\n",
       "      <td>offer received</td>\n",
       "      <td>8ec6ce2a7e7949b1bf142def7d0e0586</td>\n",
       "      <td>0</td>\n",
       "      <td>{'offer id': 'fafdcd668e3743c1bb461111dcafc2a4'}</td>\n",
       "    </tr>\n",
       "    <tr>\n",
       "      <th>4</th>\n",
       "      <td>offer received</td>\n",
       "      <td>68617ca6246f4fbc85e91a2a49552598</td>\n",
       "      <td>0</td>\n",
       "      <td>{'offer id': '4d5c57ea9a6940dd891ad53e9dbe8da0'}</td>\n",
       "    </tr>\n",
       "  </tbody>\n",
       "</table>\n",
       "</div>"
      ],
      "text/plain": [
       "            event                                id  time  \\\n",
       "0  offer received  78afa995795e4d85b5d9ceeca43f5fef     0   \n",
       "1  offer received  a03223e636434f42ac4c3df47e8bac43     0   \n",
       "2  offer received  e2127556f4f64592b11af22de27a7932     0   \n",
       "3  offer received  8ec6ce2a7e7949b1bf142def7d0e0586     0   \n",
       "4  offer received  68617ca6246f4fbc85e91a2a49552598     0   \n",
       "\n",
       "                                              value  \n",
       "0  {'offer id': '9b98b8c7a33c4b65b9aebfe6a799e6d9'}  \n",
       "1  {'offer id': '0b1e1539f2cc45b7b9fa7c272da2e1d7'}  \n",
       "2  {'offer id': '2906b810c7d4411798c6938adc9daaa5'}  \n",
       "3  {'offer id': 'fafdcd668e3743c1bb461111dcafc2a4'}  \n",
       "4  {'offer id': '4d5c57ea9a6940dd891ad53e9dbe8da0'}  "
      ]
     },
     "execution_count": 394,
     "metadata": {},
     "output_type": "execute_result"
    }
   ],
   "source": [
    "transcript.head(5)"
   ]
  },
  {
   "cell_type": "code",
   "execution_count": 395,
   "metadata": {},
   "outputs": [
    {
     "name": "stdout",
     "output_type": "stream",
     "text": [
      "<class 'pandas.core.frame.DataFrame'>\n",
      "RangeIndex: 306534 entries, 0 to 306533\n",
      "Data columns (total 4 columns):\n",
      "event    306534 non-null object\n",
      "id       306534 non-null object\n",
      "time     306534 non-null int64\n",
      "value    306534 non-null object\n",
      "dtypes: int64(1), object(3)\n",
      "memory usage: 9.4+ MB\n",
      "None\n"
     ]
    }
   ],
   "source": [
    "print(transcript.info())"
   ]
  },
  {
   "cell_type": "code",
   "execution_count": 396,
   "metadata": {},
   "outputs": [
    {
     "name": "stdout",
     "output_type": "stream",
     "text": [
      "                time\n",
      "count  306534.000000\n",
      "mean      366.382940\n",
      "std       200.326314\n",
      "min         0.000000\n",
      "25%       186.000000\n",
      "50%       408.000000\n",
      "75%       528.000000\n",
      "max       714.000000\n"
     ]
    }
   ],
   "source": [
    "print(transcript.describe())"
   ]
  },
  {
   "cell_type": "code",
   "execution_count": 397,
   "metadata": {},
   "outputs": [
    {
     "name": "stdout",
     "output_type": "stream",
     "text": [
      "transcript\n",
      "event    0\n",
      "id       0\n",
      "time     0\n",
      "value    0\n",
      "dtype: int64\n"
     ]
    }
   ],
   "source": [
    "print(\"transcript\")\n",
    "print(transcript.isnull().sum())"
   ]
  },
  {
   "cell_type": "code",
   "execution_count": 398,
   "metadata": {},
   "outputs": [
    {
     "data": {
      "text/plain": [
       "array(['offer received', 'offer viewed', 'transaction', 'offer completed'], dtype=object)"
      ]
     },
     "execution_count": 398,
     "metadata": {},
     "output_type": "execute_result"
    }
   ],
   "source": [
    "transcript['event'].unique()"
   ]
  },
  {
   "cell_type": "markdown",
   "metadata": {},
   "source": [
    "# Data Understanding"
   ]
  },
  {
   "cell_type": "markdown",
   "metadata": {},
   "source": [
    "### 1. How does age affect the likelihood of completing an offer?"
   ]
  },
  {
   "cell_type": "code",
   "execution_count": 399,
   "metadata": {},
   "outputs": [],
   "source": [
    "transcript.rename(columns = {'person':'id'}, inplace = True)"
   ]
  },
  {
   "cell_type": "code",
   "execution_count": 400,
   "metadata": {},
   "outputs": [],
   "source": [
    "analysis = transcript.merge(profile, on='id')"
   ]
  },
  {
   "cell_type": "code",
   "execution_count": 401,
   "metadata": {},
   "outputs": [
    {
     "data": {
      "text/plain": [
       "Index(['event', 'id', 'time', 'value', 'age', 'became_member_on', 'gender',\n",
       "       'income'],\n",
       "      dtype='object')"
      ]
     },
     "execution_count": 401,
     "metadata": {},
     "output_type": "execute_result"
    }
   ],
   "source": [
    "analysis.columns"
   ]
  },
  {
   "cell_type": "code",
   "execution_count": 402,
   "metadata": {},
   "outputs": [
    {
     "data": {
      "text/html": [
       "<div>\n",
       "<style scoped>\n",
       "    .dataframe tbody tr th:only-of-type {\n",
       "        vertical-align: middle;\n",
       "    }\n",
       "\n",
       "    .dataframe tbody tr th {\n",
       "        vertical-align: top;\n",
       "    }\n",
       "\n",
       "    .dataframe thead th {\n",
       "        text-align: right;\n",
       "    }\n",
       "</style>\n",
       "<table border=\"1\" class=\"dataframe\">\n",
       "  <thead>\n",
       "    <tr style=\"text-align: right;\">\n",
       "      <th></th>\n",
       "      <th>event</th>\n",
       "      <th>id</th>\n",
       "      <th>time</th>\n",
       "      <th>value</th>\n",
       "      <th>age</th>\n",
       "      <th>became_member_on</th>\n",
       "      <th>gender</th>\n",
       "      <th>income</th>\n",
       "    </tr>\n",
       "  </thead>\n",
       "  <tbody>\n",
       "    <tr>\n",
       "      <th>0</th>\n",
       "      <td>offer received</td>\n",
       "      <td>78afa995795e4d85b5d9ceeca43f5fef</td>\n",
       "      <td>0</td>\n",
       "      <td>{'offer id': '9b98b8c7a33c4b65b9aebfe6a799e6d9'}</td>\n",
       "      <td>75.0</td>\n",
       "      <td>20170509</td>\n",
       "      <td>F</td>\n",
       "      <td>100000.0</td>\n",
       "    </tr>\n",
       "    <tr>\n",
       "      <th>1</th>\n",
       "      <td>offer viewed</td>\n",
       "      <td>78afa995795e4d85b5d9ceeca43f5fef</td>\n",
       "      <td>6</td>\n",
       "      <td>{'offer id': '9b98b8c7a33c4b65b9aebfe6a799e6d9'}</td>\n",
       "      <td>75.0</td>\n",
       "      <td>20170509</td>\n",
       "      <td>F</td>\n",
       "      <td>100000.0</td>\n",
       "    </tr>\n",
       "    <tr>\n",
       "      <th>2</th>\n",
       "      <td>transaction</td>\n",
       "      <td>78afa995795e4d85b5d9ceeca43f5fef</td>\n",
       "      <td>132</td>\n",
       "      <td>{'amount': 19.89}</td>\n",
       "      <td>75.0</td>\n",
       "      <td>20170509</td>\n",
       "      <td>F</td>\n",
       "      <td>100000.0</td>\n",
       "    </tr>\n",
       "    <tr>\n",
       "      <th>3</th>\n",
       "      <td>offer completed</td>\n",
       "      <td>78afa995795e4d85b5d9ceeca43f5fef</td>\n",
       "      <td>132</td>\n",
       "      <td>{'offer_id': '9b98b8c7a33c4b65b9aebfe6a799e6d9...</td>\n",
       "      <td>75.0</td>\n",
       "      <td>20170509</td>\n",
       "      <td>F</td>\n",
       "      <td>100000.0</td>\n",
       "    </tr>\n",
       "    <tr>\n",
       "      <th>4</th>\n",
       "      <td>transaction</td>\n",
       "      <td>78afa995795e4d85b5d9ceeca43f5fef</td>\n",
       "      <td>144</td>\n",
       "      <td>{'amount': 17.78}</td>\n",
       "      <td>75.0</td>\n",
       "      <td>20170509</td>\n",
       "      <td>F</td>\n",
       "      <td>100000.0</td>\n",
       "    </tr>\n",
       "  </tbody>\n",
       "</table>\n",
       "</div>"
      ],
      "text/plain": [
       "             event                                id  time  \\\n",
       "0   offer received  78afa995795e4d85b5d9ceeca43f5fef     0   \n",
       "1     offer viewed  78afa995795e4d85b5d9ceeca43f5fef     6   \n",
       "2      transaction  78afa995795e4d85b5d9ceeca43f5fef   132   \n",
       "3  offer completed  78afa995795e4d85b5d9ceeca43f5fef   132   \n",
       "4      transaction  78afa995795e4d85b5d9ceeca43f5fef   144   \n",
       "\n",
       "                                               value   age  became_member_on  \\\n",
       "0   {'offer id': '9b98b8c7a33c4b65b9aebfe6a799e6d9'}  75.0          20170509   \n",
       "1   {'offer id': '9b98b8c7a33c4b65b9aebfe6a799e6d9'}  75.0          20170509   \n",
       "2                                  {'amount': 19.89}  75.0          20170509   \n",
       "3  {'offer_id': '9b98b8c7a33c4b65b9aebfe6a799e6d9...  75.0          20170509   \n",
       "4                                  {'amount': 17.78}  75.0          20170509   \n",
       "\n",
       "  gender    income  \n",
       "0      F  100000.0  \n",
       "1      F  100000.0  \n",
       "2      F  100000.0  \n",
       "3      F  100000.0  \n",
       "4      F  100000.0  "
      ]
     },
     "execution_count": 402,
     "metadata": {},
     "output_type": "execute_result"
    }
   ],
   "source": [
    "analysis.head()"
   ]
  },
  {
   "cell_type": "code",
   "execution_count": 403,
   "metadata": {},
   "outputs": [
    {
     "data": {
      "image/png": "[encoded data removed]",
      "text/plain": [
       "<matplotlib.figure.Figure at 0x7f56c122e7f0>"
      ]
     },
     "metadata": {
      "needs_background": "light"
     },
     "output_type": "display_data"
    }
   ],
   "source": [
    "# First lets know the age distribution\n",
    "age_dist = sns.distplot(profile['age']);\n",
    "age_dist.set_title('Total Age distribution');"
   ]
  },
  {
   "cell_type": "code",
   "execution_count": 404,
   "metadata": {},
   "outputs": [
    {
     "data": {
      "image/png": "[encoded data removed]",
      "text/plain": [
       "<matplotlib.figure.Figure at 0x7f56c12b0fd0>"
      ]
     },
     "metadata": {
      "needs_background": "light"
     },
     "output_type": "display_data"
    }
   ],
   "source": [
    "import matplotlib.pyplot as plt\n",
    "\n",
    "# Assuming you have the relevant data stored in a pandas DataFrame called 'data'\n",
    "age_completion = analysis[analysis['event'] == 'offer completed'].groupby('age').size() / analysis.groupby('age').size()\n",
    "age = age_completion.index\n",
    "\n",
    "plt.figure(figsize=(10, 6))\n",
    "plt.plot(age, age_completion)\n",
    "plt.xlabel('Age')\n",
    "plt.ylabel('Proportion of Completed Offers')\n",
    "plt.title('Relationship between Age and Offer Completion')\n",
    "plt.show()"
   ]
  },
  {
   "cell_type": "markdown",
   "metadata": {},
   "source": [
    "**We can detect a reduction in the 60s and close to 100 years old, and we can deduce from the plot that as people age, their chance of accepting an offer will also increase.**"
   ]
  },
  {
   "cell_type": "markdown",
   "metadata": {},
   "source": [
    "### 2. How does gender determine the amount spent in transactions?"
   ]
  },
  {
   "cell_type": "code",
   "execution_count": 276,
   "metadata": {},
   "outputs": [
    {
     "data": {
      "text/html": [
       "<div>\n",
       "<style scoped>\n",
       "    .dataframe tbody tr th:only-of-type {\n",
       "        vertical-align: middle;\n",
       "    }\n",
       "\n",
       "    .dataframe tbody tr th {\n",
       "        vertical-align: top;\n",
       "    }\n",
       "\n",
       "    .dataframe thead th {\n",
       "        text-align: right;\n",
       "    }\n",
       "</style>\n",
       "<table border=\"1\" class=\"dataframe\">\n",
       "  <thead>\n",
       "    <tr style=\"text-align: right;\">\n",
       "      <th></th>\n",
       "      <th>event</th>\n",
       "      <th>id</th>\n",
       "      <th>time</th>\n",
       "      <th>value</th>\n",
       "      <th>age</th>\n",
       "      <th>became_member_on</th>\n",
       "      <th>gender</th>\n",
       "      <th>income</th>\n",
       "    </tr>\n",
       "  </thead>\n",
       "  <tbody>\n",
       "    <tr>\n",
       "      <th>0</th>\n",
       "      <td>offer received</td>\n",
       "      <td>78afa995795e4d85b5d9ceeca43f5fef</td>\n",
       "      <td>0</td>\n",
       "      <td>{'offer id': '9b98b8c7a33c4b65b9aebfe6a799e6d9'}</td>\n",
       "      <td>75.0</td>\n",
       "      <td>20170509</td>\n",
       "      <td>F</td>\n",
       "      <td>100000.0</td>\n",
       "    </tr>\n",
       "    <tr>\n",
       "      <th>1</th>\n",
       "      <td>offer viewed</td>\n",
       "      <td>78afa995795e4d85b5d9ceeca43f5fef</td>\n",
       "      <td>6</td>\n",
       "      <td>{'offer id': '9b98b8c7a33c4b65b9aebfe6a799e6d9'}</td>\n",
       "      <td>75.0</td>\n",
       "      <td>20170509</td>\n",
       "      <td>F</td>\n",
       "      <td>100000.0</td>\n",
       "    </tr>\n",
       "    <tr>\n",
       "      <th>2</th>\n",
       "      <td>transaction</td>\n",
       "      <td>78afa995795e4d85b5d9ceeca43f5fef</td>\n",
       "      <td>132</td>\n",
       "      <td>{'amount': 19.89}</td>\n",
       "      <td>75.0</td>\n",
       "      <td>20170509</td>\n",
       "      <td>F</td>\n",
       "      <td>100000.0</td>\n",
       "    </tr>\n",
       "    <tr>\n",
       "      <th>3</th>\n",
       "      <td>offer completed</td>\n",
       "      <td>78afa995795e4d85b5d9ceeca43f5fef</td>\n",
       "      <td>132</td>\n",
       "      <td>{'offer_id': '9b98b8c7a33c4b65b9aebfe6a799e6d9...</td>\n",
       "      <td>75.0</td>\n",
       "      <td>20170509</td>\n",
       "      <td>F</td>\n",
       "      <td>100000.0</td>\n",
       "    </tr>\n",
       "    <tr>\n",
       "      <th>4</th>\n",
       "      <td>transaction</td>\n",
       "      <td>78afa995795e4d85b5d9ceeca43f5fef</td>\n",
       "      <td>144</td>\n",
       "      <td>{'amount': 17.78}</td>\n",
       "      <td>75.0</td>\n",
       "      <td>20170509</td>\n",
       "      <td>F</td>\n",
       "      <td>100000.0</td>\n",
       "    </tr>\n",
       "  </tbody>\n",
       "</table>\n",
       "</div>"
      ],
      "text/plain": [
       "             event                                id  time  \\\n",
       "0   offer received  78afa995795e4d85b5d9ceeca43f5fef     0   \n",
       "1     offer viewed  78afa995795e4d85b5d9ceeca43f5fef     6   \n",
       "2      transaction  78afa995795e4d85b5d9ceeca43f5fef   132   \n",
       "3  offer completed  78afa995795e4d85b5d9ceeca43f5fef   132   \n",
       "4      transaction  78afa995795e4d85b5d9ceeca43f5fef   144   \n",
       "\n",
       "                                               value   age  became_member_on  \\\n",
       "0   {'offer id': '9b98b8c7a33c4b65b9aebfe6a799e6d9'}  75.0          20170509   \n",
       "1   {'offer id': '9b98b8c7a33c4b65b9aebfe6a799e6d9'}  75.0          20170509   \n",
       "2                                  {'amount': 19.89}  75.0          20170509   \n",
       "3  {'offer_id': '9b98b8c7a33c4b65b9aebfe6a799e6d9...  75.0          20170509   \n",
       "4                                  {'amount': 17.78}  75.0          20170509   \n",
       "\n",
       "  gender    income  \n",
       "0      F  100000.0  \n",
       "1      F  100000.0  \n",
       "2      F  100000.0  \n",
       "3      F  100000.0  \n",
       "4      F  100000.0  "
      ]
     },
     "execution_count": 276,
     "metadata": {},
     "output_type": "execute_result"
    }
   ],
   "source": [
    "analysis.head()"
   ]
  },
  {
   "cell_type": "code",
   "execution_count": 277,
   "metadata": {},
   "outputs": [],
   "source": [
    "# split \"value\" column into separate columns\n",
    "split_values = analysis['value'].apply(lambda x: pd.Series(str(x).split(\":\")))\n",
    "split_values = split_values.rename(columns={0: \"type\", 1: \"value\"})\n",
    "\n",
    "# concatenate original dataframe with split values dataframe\n",
    "new_dataframe = pd.concat([analysis.drop(['value'], axis=1), split_values], axis=1)"
   ]
  },
  {
   "cell_type": "code",
   "execution_count": 278,
   "metadata": {},
   "outputs": [],
   "source": [
    "# remove unnecessary characters from \"type\" and \"value\" columns\n",
    "new_dataframe['type'] = new_dataframe['type'].str.replace(\"{\", \"\").str.replace(\"'\", \"\").str.strip()\n",
    "new_dataframe['value'] = new_dataframe['value'].str.replace(\"}\", \"\").str.strip()\n"
   ]
  },
  {
   "cell_type": "code",
   "execution_count": 279,
   "metadata": {},
   "outputs": [
    {
     "data": {
      "text/html": [
       "<div>\n",
       "<style scoped>\n",
       "    .dataframe tbody tr th:only-of-type {\n",
       "        vertical-align: middle;\n",
       "    }\n",
       "\n",
       "    .dataframe tbody tr th {\n",
       "        vertical-align: top;\n",
       "    }\n",
       "\n",
       "    .dataframe thead th {\n",
       "        text-align: right;\n",
       "    }\n",
       "</style>\n",
       "<table border=\"1\" class=\"dataframe\">\n",
       "  <thead>\n",
       "    <tr style=\"text-align: right;\">\n",
       "      <th></th>\n",
       "      <th>event</th>\n",
       "      <th>id</th>\n",
       "      <th>time</th>\n",
       "      <th>age</th>\n",
       "      <th>became_member_on</th>\n",
       "      <th>gender</th>\n",
       "      <th>income</th>\n",
       "      <th>type</th>\n",
       "      <th>value</th>\n",
       "      <th>2</th>\n",
       "    </tr>\n",
       "  </thead>\n",
       "  <tbody>\n",
       "    <tr>\n",
       "      <th>0</th>\n",
       "      <td>offer received</td>\n",
       "      <td>78afa995795e4d85b5d9ceeca43f5fef</td>\n",
       "      <td>0</td>\n",
       "      <td>75.0</td>\n",
       "      <td>20170509</td>\n",
       "      <td>F</td>\n",
       "      <td>100000.0</td>\n",
       "      <td>offer id</td>\n",
       "      <td>'9b98b8c7a33c4b65b9aebfe6a799e6d9'</td>\n",
       "      <td>NaN</td>\n",
       "    </tr>\n",
       "    <tr>\n",
       "      <th>1</th>\n",
       "      <td>offer viewed</td>\n",
       "      <td>78afa995795e4d85b5d9ceeca43f5fef</td>\n",
       "      <td>6</td>\n",
       "      <td>75.0</td>\n",
       "      <td>20170509</td>\n",
       "      <td>F</td>\n",
       "      <td>100000.0</td>\n",
       "      <td>offer id</td>\n",
       "      <td>'9b98b8c7a33c4b65b9aebfe6a799e6d9'</td>\n",
       "      <td>NaN</td>\n",
       "    </tr>\n",
       "    <tr>\n",
       "      <th>2</th>\n",
       "      <td>transaction</td>\n",
       "      <td>78afa995795e4d85b5d9ceeca43f5fef</td>\n",
       "      <td>132</td>\n",
       "      <td>75.0</td>\n",
       "      <td>20170509</td>\n",
       "      <td>F</td>\n",
       "      <td>100000.0</td>\n",
       "      <td>amount</td>\n",
       "      <td>19.89</td>\n",
       "      <td>NaN</td>\n",
       "    </tr>\n",
       "    <tr>\n",
       "      <th>3</th>\n",
       "      <td>offer completed</td>\n",
       "      <td>78afa995795e4d85b5d9ceeca43f5fef</td>\n",
       "      <td>132</td>\n",
       "      <td>75.0</td>\n",
       "      <td>20170509</td>\n",
       "      <td>F</td>\n",
       "      <td>100000.0</td>\n",
       "      <td>offer_id</td>\n",
       "      <td>'9b98b8c7a33c4b65b9aebfe6a799e6d9', 'reward'</td>\n",
       "      <td>5}</td>\n",
       "    </tr>\n",
       "    <tr>\n",
       "      <th>4</th>\n",
       "      <td>transaction</td>\n",
       "      <td>78afa995795e4d85b5d9ceeca43f5fef</td>\n",
       "      <td>144</td>\n",
       "      <td>75.0</td>\n",
       "      <td>20170509</td>\n",
       "      <td>F</td>\n",
       "      <td>100000.0</td>\n",
       "      <td>amount</td>\n",
       "      <td>17.78</td>\n",
       "      <td>NaN</td>\n",
       "    </tr>\n",
       "  </tbody>\n",
       "</table>\n",
       "</div>"
      ],
      "text/plain": [
       "             event                                id  time   age  \\\n",
       "0   offer received  78afa995795e4d85b5d9ceeca43f5fef     0  75.0   \n",
       "1     offer viewed  78afa995795e4d85b5d9ceeca43f5fef     6  75.0   \n",
       "2      transaction  78afa995795e4d85b5d9ceeca43f5fef   132  75.0   \n",
       "3  offer completed  78afa995795e4d85b5d9ceeca43f5fef   132  75.0   \n",
       "4      transaction  78afa995795e4d85b5d9ceeca43f5fef   144  75.0   \n",
       "\n",
       "   became_member_on gender    income      type  \\\n",
       "0          20170509      F  100000.0  offer id   \n",
       "1          20170509      F  100000.0  offer id   \n",
       "2          20170509      F  100000.0    amount   \n",
       "3          20170509      F  100000.0  offer_id   \n",
       "4          20170509      F  100000.0    amount   \n",
       "\n",
       "                                          value    2  \n",
       "0            '9b98b8c7a33c4b65b9aebfe6a799e6d9'  NaN  \n",
       "1            '9b98b8c7a33c4b65b9aebfe6a799e6d9'  NaN  \n",
       "2                                         19.89  NaN  \n",
       "3  '9b98b8c7a33c4b65b9aebfe6a799e6d9', 'reward'   5}  \n",
       "4                                         17.78  NaN  "
      ]
     },
     "execution_count": 279,
     "metadata": {},
     "output_type": "execute_result"
    }
   ],
   "source": [
    "# display resulting dataframe\n",
    "new_dataframe.head()"
   ]
  },
  {
   "cell_type": "code",
   "execution_count": 280,
   "metadata": {},
   "outputs": [],
   "source": [
    "merged_dataframe = pd.merge(new_dataframe, analysis, on='id', suffixes=('_val', '_user'))"
   ]
  },
  {
   "cell_type": "code",
   "execution_count": 281,
   "metadata": {},
   "outputs": [],
   "source": [
    "merged_dataframe_1 = merged_dataframe[merged_dataframe['type'] == 'amount']"
   ]
  },
  {
   "cell_type": "code",
   "execution_count": 282,
   "metadata": {},
   "outputs": [],
   "source": [
    "purchasement_by_gender = merged_dataframe_1[['value_val','gender_user']]"
   ]
  },
  {
   "cell_type": "code",
   "execution_count": 283,
   "metadata": {},
   "outputs": [],
   "source": [
    "purchasement_by_gender = purchasement_by_gender.astype({'value_val':'float'})"
   ]
  },
  {
   "cell_type": "code",
   "execution_count": 284,
   "metadata": {},
   "outputs": [
    {
     "data": {
      "text/plain": [
       "gender_user\n",
       "O     4.230061\n",
       "M    11.377245\n",
       "F    17.021546\n",
       "Name: value_val, dtype: float64"
      ]
     },
     "execution_count": 284,
     "metadata": {},
     "output_type": "execute_result"
    }
   ],
   "source": [
    "purchasement_by_gender.groupby(['gender_user']).mean()['value_val'].sort_values().dropna()"
   ]
  },
  {
   "cell_type": "code",
   "execution_count": 285,
   "metadata": {},
   "outputs": [
    {
     "data": {
      "image/png": "[encoded data removed]",
      "text/plain": [
       "<matplotlib.figure.Figure at 0x7f56983b7d68>"
      ]
     },
     "metadata": {
      "needs_background": "light"
     },
     "output_type": "display_data"
    }
   ],
   "source": [
    "fig = plt.figure()\n",
    "\n",
    "gender = ['M', 'F']\n",
    "average_payment = [10.096883,17.021546]\n",
    "plt.bar(gender,average_payment)\n",
    "plt.show()"
   ]
  },
  {
   "cell_type": "markdown",
   "metadata": {},
   "source": [
    "**The bar layout demonstrates that women pay more money than men do may suggest that women are more responsive to offers.**"
   ]
  },
  {
   "cell_type": "markdown",
   "metadata": {},
   "source": [
    "### 3. Are there any age-related differences in the preferred channels for receiving offers (e.g., web, email, mobile, social)?"
   ]
  },
  {
   "cell_type": "code",
   "execution_count": 286,
   "metadata": {},
   "outputs": [
    {
     "data": {
      "text/html": [
       "<div>\n",
       "<style scoped>\n",
       "    .dataframe tbody tr th:only-of-type {\n",
       "        vertical-align: middle;\n",
       "    }\n",
       "\n",
       "    .dataframe tbody tr th {\n",
       "        vertical-align: top;\n",
       "    }\n",
       "\n",
       "    .dataframe thead th {\n",
       "        text-align: right;\n",
       "    }\n",
       "</style>\n",
       "<table border=\"1\" class=\"dataframe\">\n",
       "  <thead>\n",
       "    <tr style=\"text-align: right;\">\n",
       "      <th></th>\n",
       "      <th>event</th>\n",
       "      <th>id</th>\n",
       "      <th>time</th>\n",
       "      <th>age</th>\n",
       "      <th>became_member_on</th>\n",
       "      <th>gender</th>\n",
       "      <th>income</th>\n",
       "      <th>type</th>\n",
       "      <th>value</th>\n",
       "      <th>2</th>\n",
       "    </tr>\n",
       "  </thead>\n",
       "  <tbody>\n",
       "    <tr>\n",
       "      <th>0</th>\n",
       "      <td>offer received</td>\n",
       "      <td>78afa995795e4d85b5d9ceeca43f5fef</td>\n",
       "      <td>0</td>\n",
       "      <td>75.0</td>\n",
       "      <td>20170509</td>\n",
       "      <td>F</td>\n",
       "      <td>100000.0</td>\n",
       "      <td>offer id</td>\n",
       "      <td>'9b98b8c7a33c4b65b9aebfe6a799e6d9'</td>\n",
       "      <td>NaN</td>\n",
       "    </tr>\n",
       "    <tr>\n",
       "      <th>1</th>\n",
       "      <td>offer viewed</td>\n",
       "      <td>78afa995795e4d85b5d9ceeca43f5fef</td>\n",
       "      <td>6</td>\n",
       "      <td>75.0</td>\n",
       "      <td>20170509</td>\n",
       "      <td>F</td>\n",
       "      <td>100000.0</td>\n",
       "      <td>offer id</td>\n",
       "      <td>'9b98b8c7a33c4b65b9aebfe6a799e6d9'</td>\n",
       "      <td>NaN</td>\n",
       "    </tr>\n",
       "    <tr>\n",
       "      <th>2</th>\n",
       "      <td>transaction</td>\n",
       "      <td>78afa995795e4d85b5d9ceeca43f5fef</td>\n",
       "      <td>132</td>\n",
       "      <td>75.0</td>\n",
       "      <td>20170509</td>\n",
       "      <td>F</td>\n",
       "      <td>100000.0</td>\n",
       "      <td>amount</td>\n",
       "      <td>19.89</td>\n",
       "      <td>NaN</td>\n",
       "    </tr>\n",
       "    <tr>\n",
       "      <th>3</th>\n",
       "      <td>offer completed</td>\n",
       "      <td>78afa995795e4d85b5d9ceeca43f5fef</td>\n",
       "      <td>132</td>\n",
       "      <td>75.0</td>\n",
       "      <td>20170509</td>\n",
       "      <td>F</td>\n",
       "      <td>100000.0</td>\n",
       "      <td>offer_id</td>\n",
       "      <td>'9b98b8c7a33c4b65b9aebfe6a799e6d9', 'reward'</td>\n",
       "      <td>5}</td>\n",
       "    </tr>\n",
       "    <tr>\n",
       "      <th>4</th>\n",
       "      <td>transaction</td>\n",
       "      <td>78afa995795e4d85b5d9ceeca43f5fef</td>\n",
       "      <td>144</td>\n",
       "      <td>75.0</td>\n",
       "      <td>20170509</td>\n",
       "      <td>F</td>\n",
       "      <td>100000.0</td>\n",
       "      <td>amount</td>\n",
       "      <td>17.78</td>\n",
       "      <td>NaN</td>\n",
       "    </tr>\n",
       "  </tbody>\n",
       "</table>\n",
       "</div>"
      ],
      "text/plain": [
       "             event                                id  time   age  \\\n",
       "0   offer received  78afa995795e4d85b5d9ceeca43f5fef     0  75.0   \n",
       "1     offer viewed  78afa995795e4d85b5d9ceeca43f5fef     6  75.0   \n",
       "2      transaction  78afa995795e4d85b5d9ceeca43f5fef   132  75.0   \n",
       "3  offer completed  78afa995795e4d85b5d9ceeca43f5fef   132  75.0   \n",
       "4      transaction  78afa995795e4d85b5d9ceeca43f5fef   144  75.0   \n",
       "\n",
       "   became_member_on gender    income      type  \\\n",
       "0          20170509      F  100000.0  offer id   \n",
       "1          20170509      F  100000.0  offer id   \n",
       "2          20170509      F  100000.0    amount   \n",
       "3          20170509      F  100000.0  offer_id   \n",
       "4          20170509      F  100000.0    amount   \n",
       "\n",
       "                                          value    2  \n",
       "0            '9b98b8c7a33c4b65b9aebfe6a799e6d9'  NaN  \n",
       "1            '9b98b8c7a33c4b65b9aebfe6a799e6d9'  NaN  \n",
       "2                                         19.89  NaN  \n",
       "3  '9b98b8c7a33c4b65b9aebfe6a799e6d9', 'reward'   5}  \n",
       "4                                         17.78  NaN  "
      ]
     },
     "execution_count": 286,
     "metadata": {},
     "output_type": "execute_result"
    }
   ],
   "source": [
    "new_dataframe.head()"
   ]
  },
  {
   "cell_type": "code",
   "execution_count": 287,
   "metadata": {},
   "outputs": [],
   "source": [
    "merged_dataframe_2 = merged_dataframe[merged_dataframe['type'] == 'offer_id']"
   ]
  },
  {
   "cell_type": "code",
   "execution_count": 288,
   "metadata": {},
   "outputs": [
    {
     "data": {
      "text/html": [
       "<div>\n",
       "<style scoped>\n",
       "    .dataframe tbody tr th:only-of-type {\n",
       "        vertical-align: middle;\n",
       "    }\n",
       "\n",
       "    .dataframe tbody tr th {\n",
       "        vertical-align: top;\n",
       "    }\n",
       "\n",
       "    .dataframe thead th {\n",
       "        text-align: right;\n",
       "    }\n",
       "</style>\n",
       "<table border=\"1\" class=\"dataframe\">\n",
       "  <thead>\n",
       "    <tr style=\"text-align: right;\">\n",
       "      <th></th>\n",
       "      <th>event_val</th>\n",
       "      <th>id</th>\n",
       "      <th>time_val</th>\n",
       "      <th>age_val</th>\n",
       "      <th>became_member_on_val</th>\n",
       "      <th>gender_val</th>\n",
       "      <th>income_val</th>\n",
       "      <th>type</th>\n",
       "      <th>value_val</th>\n",
       "      <th>2</th>\n",
       "      <th>event_user</th>\n",
       "      <th>time_user</th>\n",
       "      <th>value_user</th>\n",
       "      <th>age_user</th>\n",
       "      <th>became_member_on_user</th>\n",
       "      <th>gender_user</th>\n",
       "      <th>income_user</th>\n",
       "    </tr>\n",
       "  </thead>\n",
       "  <tbody>\n",
       "    <tr>\n",
       "      <th>54</th>\n",
       "      <td>offer completed</td>\n",
       "      <td>78afa995795e4d85b5d9ceeca43f5fef</td>\n",
       "      <td>132</td>\n",
       "      <td>75.0</td>\n",
       "      <td>20170509</td>\n",
       "      <td>F</td>\n",
       "      <td>100000.0</td>\n",
       "      <td>offer_id</td>\n",
       "      <td>'9b98b8c7a33c4b65b9aebfe6a799e6d9', 'reward'</td>\n",
       "      <td>5}</td>\n",
       "      <td>offer received</td>\n",
       "      <td>0</td>\n",
       "      <td>{'offer id': '9b98b8c7a33c4b65b9aebfe6a799e6d9'}</td>\n",
       "      <td>75.0</td>\n",
       "      <td>20170509</td>\n",
       "      <td>F</td>\n",
       "      <td>100000.0</td>\n",
       "    </tr>\n",
       "    <tr>\n",
       "      <th>55</th>\n",
       "      <td>offer completed</td>\n",
       "      <td>78afa995795e4d85b5d9ceeca43f5fef</td>\n",
       "      <td>132</td>\n",
       "      <td>75.0</td>\n",
       "      <td>20170509</td>\n",
       "      <td>F</td>\n",
       "      <td>100000.0</td>\n",
       "      <td>offer_id</td>\n",
       "      <td>'9b98b8c7a33c4b65b9aebfe6a799e6d9', 'reward'</td>\n",
       "      <td>5}</td>\n",
       "      <td>offer viewed</td>\n",
       "      <td>6</td>\n",
       "      <td>{'offer id': '9b98b8c7a33c4b65b9aebfe6a799e6d9'}</td>\n",
       "      <td>75.0</td>\n",
       "      <td>20170509</td>\n",
       "      <td>F</td>\n",
       "      <td>100000.0</td>\n",
       "    </tr>\n",
       "    <tr>\n",
       "      <th>56</th>\n",
       "      <td>offer completed</td>\n",
       "      <td>78afa995795e4d85b5d9ceeca43f5fef</td>\n",
       "      <td>132</td>\n",
       "      <td>75.0</td>\n",
       "      <td>20170509</td>\n",
       "      <td>F</td>\n",
       "      <td>100000.0</td>\n",
       "      <td>offer_id</td>\n",
       "      <td>'9b98b8c7a33c4b65b9aebfe6a799e6d9', 'reward'</td>\n",
       "      <td>5}</td>\n",
       "      <td>transaction</td>\n",
       "      <td>132</td>\n",
       "      <td>{'amount': 19.89}</td>\n",
       "      <td>75.0</td>\n",
       "      <td>20170509</td>\n",
       "      <td>F</td>\n",
       "      <td>100000.0</td>\n",
       "    </tr>\n",
       "    <tr>\n",
       "      <th>57</th>\n",
       "      <td>offer completed</td>\n",
       "      <td>78afa995795e4d85b5d9ceeca43f5fef</td>\n",
       "      <td>132</td>\n",
       "      <td>75.0</td>\n",
       "      <td>20170509</td>\n",
       "      <td>F</td>\n",
       "      <td>100000.0</td>\n",
       "      <td>offer_id</td>\n",
       "      <td>'9b98b8c7a33c4b65b9aebfe6a799e6d9', 'reward'</td>\n",
       "      <td>5}</td>\n",
       "      <td>offer completed</td>\n",
       "      <td>132</td>\n",
       "      <td>{'offer_id': '9b98b8c7a33c4b65b9aebfe6a799e6d9...</td>\n",
       "      <td>75.0</td>\n",
       "      <td>20170509</td>\n",
       "      <td>F</td>\n",
       "      <td>100000.0</td>\n",
       "    </tr>\n",
       "    <tr>\n",
       "      <th>58</th>\n",
       "      <td>offer completed</td>\n",
       "      <td>78afa995795e4d85b5d9ceeca43f5fef</td>\n",
       "      <td>132</td>\n",
       "      <td>75.0</td>\n",
       "      <td>20170509</td>\n",
       "      <td>F</td>\n",
       "      <td>100000.0</td>\n",
       "      <td>offer_id</td>\n",
       "      <td>'9b98b8c7a33c4b65b9aebfe6a799e6d9', 'reward'</td>\n",
       "      <td>5}</td>\n",
       "      <td>transaction</td>\n",
       "      <td>144</td>\n",
       "      <td>{'amount': 17.78}</td>\n",
       "      <td>75.0</td>\n",
       "      <td>20170509</td>\n",
       "      <td>F</td>\n",
       "      <td>100000.0</td>\n",
       "    </tr>\n",
       "  </tbody>\n",
       "</table>\n",
       "</div>"
      ],
      "text/plain": [
       "          event_val                                id  time_val  age_val  \\\n",
       "54  offer completed  78afa995795e4d85b5d9ceeca43f5fef       132     75.0   \n",
       "55  offer completed  78afa995795e4d85b5d9ceeca43f5fef       132     75.0   \n",
       "56  offer completed  78afa995795e4d85b5d9ceeca43f5fef       132     75.0   \n",
       "57  offer completed  78afa995795e4d85b5d9ceeca43f5fef       132     75.0   \n",
       "58  offer completed  78afa995795e4d85b5d9ceeca43f5fef       132     75.0   \n",
       "\n",
       "    became_member_on_val gender_val  income_val      type  \\\n",
       "54              20170509          F    100000.0  offer_id   \n",
       "55              20170509          F    100000.0  offer_id   \n",
       "56              20170509          F    100000.0  offer_id   \n",
       "57              20170509          F    100000.0  offer_id   \n",
       "58              20170509          F    100000.0  offer_id   \n",
       "\n",
       "                                       value_val    2       event_user  \\\n",
       "54  '9b98b8c7a33c4b65b9aebfe6a799e6d9', 'reward'   5}   offer received   \n",
       "55  '9b98b8c7a33c4b65b9aebfe6a799e6d9', 'reward'   5}     offer viewed   \n",
       "56  '9b98b8c7a33c4b65b9aebfe6a799e6d9', 'reward'   5}      transaction   \n",
       "57  '9b98b8c7a33c4b65b9aebfe6a799e6d9', 'reward'   5}  offer completed   \n",
       "58  '9b98b8c7a33c4b65b9aebfe6a799e6d9', 'reward'   5}      transaction   \n",
       "\n",
       "    time_user                                         value_user  age_user  \\\n",
       "54          0   {'offer id': '9b98b8c7a33c4b65b9aebfe6a799e6d9'}      75.0   \n",
       "55          6   {'offer id': '9b98b8c7a33c4b65b9aebfe6a799e6d9'}      75.0   \n",
       "56        132                                  {'amount': 19.89}      75.0   \n",
       "57        132  {'offer_id': '9b98b8c7a33c4b65b9aebfe6a799e6d9...      75.0   \n",
       "58        144                                  {'amount': 17.78}      75.0   \n",
       "\n",
       "    became_member_on_user gender_user  income_user  \n",
       "54               20170509           F     100000.0  \n",
       "55               20170509           F     100000.0  \n",
       "56               20170509           F     100000.0  \n",
       "57               20170509           F     100000.0  \n",
       "58               20170509           F     100000.0  "
      ]
     },
     "execution_count": 288,
     "metadata": {},
     "output_type": "execute_result"
    }
   ],
   "source": [
    "merged_dataframe_2.head()"
   ]
  },
  {
   "cell_type": "code",
   "execution_count": 289,
   "metadata": {},
   "outputs": [
    {
     "name": "stderr",
     "output_type": "stream",
     "text": [
      "/opt/conda/lib/python3.6/site-packages/pandas/core/frame.py:3781: SettingWithCopyWarning: \n",
      "A value is trying to be set on a copy of a slice from a DataFrame\n",
      "\n",
      "See the caveats in the documentation: http://pandas.pydata.org/pandas-docs/stable/indexing.html#indexing-view-versus-copy\n",
      "  return super(DataFrame, self).rename(**kwargs)\n"
     ]
    }
   ],
   "source": [
    "merged_dataframe_2.rename(columns = {'type':'offer_id'}, inplace = True)"
   ]
  },
  {
   "cell_type": "code",
   "execution_count": 290,
   "metadata": {},
   "outputs": [
    {
     "name": "stderr",
     "output_type": "stream",
     "text": [
      "/opt/conda/lib/python3.6/site-packages/ipykernel_launcher.py:3: SettingWithCopyWarning: \n",
      "A value is trying to be set on a copy of a slice from a DataFrame.\n",
      "Try using .loc[row_indexer,col_indexer] = value instead\n",
      "\n",
      "See the caveats in the documentation: http://pandas.pydata.org/pandas-docs/stable/indexing.html#indexing-view-versus-copy\n",
      "  This is separate from the ipykernel package so we can avoid doing imports until\n"
     ]
    }
   ],
   "source": [
    "\n",
    "# extract first 11 characters (assuming they are always the same length)\n",
    "merged_dataframe_2['value_val'] = merged_dataframe_2['value_val'].str.extract('(\\w{32})')\n"
   ]
  },
  {
   "cell_type": "code",
   "execution_count": 291,
   "metadata": {},
   "outputs": [
    {
     "name": "stderr",
     "output_type": "stream",
     "text": [
      "/opt/conda/lib/python3.6/site-packages/pandas/core/frame.py:3697: SettingWithCopyWarning: \n",
      "A value is trying to be set on a copy of a slice from a DataFrame\n",
      "\n",
      "See the caveats in the documentation: http://pandas.pydata.org/pandas-docs/stable/indexing.html#indexing-view-versus-copy\n",
      "  errors=errors)\n"
     ]
    }
   ],
   "source": [
    "merged_dataframe_2.drop('offer_id',inplace= True,axis=1)"
   ]
  },
  {
   "cell_type": "code",
   "execution_count": 292,
   "metadata": {},
   "outputs": [
    {
     "name": "stderr",
     "output_type": "stream",
     "text": [
      "/opt/conda/lib/python3.6/site-packages/pandas/core/frame.py:3781: SettingWithCopyWarning: \n",
      "A value is trying to be set on a copy of a slice from a DataFrame\n",
      "\n",
      "See the caveats in the documentation: http://pandas.pydata.org/pandas-docs/stable/indexing.html#indexing-view-versus-copy\n",
      "  return super(DataFrame, self).rename(**kwargs)\n"
     ]
    }
   ],
   "source": [
    "# rename value_val to offer_id\n",
    "merged_dataframe_2.rename(columns = {'value_val':'offer_id'}, inplace = True)"
   ]
  },
  {
   "cell_type": "code",
   "execution_count": 293,
   "metadata": {},
   "outputs": [
    {
     "data": {
      "text/html": [
       "<div>\n",
       "<style scoped>\n",
       "    .dataframe tbody tr th:only-of-type {\n",
       "        vertical-align: middle;\n",
       "    }\n",
       "\n",
       "    .dataframe tbody tr th {\n",
       "        vertical-align: top;\n",
       "    }\n",
       "\n",
       "    .dataframe thead th {\n",
       "        text-align: right;\n",
       "    }\n",
       "</style>\n",
       "<table border=\"1\" class=\"dataframe\">\n",
       "  <thead>\n",
       "    <tr style=\"text-align: right;\">\n",
       "      <th></th>\n",
       "      <th>event_val</th>\n",
       "      <th>id</th>\n",
       "      <th>time_val</th>\n",
       "      <th>age_val</th>\n",
       "      <th>became_member_on_val</th>\n",
       "      <th>gender_val</th>\n",
       "      <th>income_val</th>\n",
       "      <th>offer_id</th>\n",
       "      <th>2</th>\n",
       "      <th>event_user</th>\n",
       "      <th>time_user</th>\n",
       "      <th>value_user</th>\n",
       "      <th>age_user</th>\n",
       "      <th>became_member_on_user</th>\n",
       "      <th>gender_user</th>\n",
       "      <th>income_user</th>\n",
       "    </tr>\n",
       "  </thead>\n",
       "  <tbody>\n",
       "    <tr>\n",
       "      <th>54</th>\n",
       "      <td>offer completed</td>\n",
       "      <td>78afa995795e4d85b5d9ceeca43f5fef</td>\n",
       "      <td>132</td>\n",
       "      <td>75.0</td>\n",
       "      <td>20170509</td>\n",
       "      <td>F</td>\n",
       "      <td>100000.0</td>\n",
       "      <td>9b98b8c7a33c4b65b9aebfe6a799e6d9</td>\n",
       "      <td>5}</td>\n",
       "      <td>offer received</td>\n",
       "      <td>0</td>\n",
       "      <td>{'offer id': '9b98b8c7a33c4b65b9aebfe6a799e6d9'}</td>\n",
       "      <td>75.0</td>\n",
       "      <td>20170509</td>\n",
       "      <td>F</td>\n",
       "      <td>100000.0</td>\n",
       "    </tr>\n",
       "  </tbody>\n",
       "</table>\n",
       "</div>"
      ],
      "text/plain": [
       "          event_val                                id  time_val  age_val  \\\n",
       "54  offer completed  78afa995795e4d85b5d9ceeca43f5fef       132     75.0   \n",
       "\n",
       "    became_member_on_val gender_val  income_val  \\\n",
       "54              20170509          F    100000.0   \n",
       "\n",
       "                            offer_id    2      event_user  time_user  \\\n",
       "54  9b98b8c7a33c4b65b9aebfe6a799e6d9   5}  offer received          0   \n",
       "\n",
       "                                          value_user  age_user  \\\n",
       "54  {'offer id': '9b98b8c7a33c4b65b9aebfe6a799e6d9'}      75.0   \n",
       "\n",
       "    became_member_on_user gender_user  income_user  \n",
       "54               20170509           F     100000.0  "
      ]
     },
     "execution_count": 293,
     "metadata": {},
     "output_type": "execute_result"
    }
   ],
   "source": [
    "merged_dataframe_2.head(1)"
   ]
  },
  {
   "cell_type": "code",
   "execution_count": 294,
   "metadata": {},
   "outputs": [],
   "source": [
    "portfolio.rename(columns = {'id':'offer_id'}, inplace = True)"
   ]
  },
  {
   "cell_type": "code",
   "execution_count": 295,
   "metadata": {},
   "outputs": [],
   "source": [
    "analysis_comm = merged_dataframe_2.merge(portfolio,on='offer_id')"
   ]
  },
  {
   "cell_type": "code",
   "execution_count": 296,
   "metadata": {},
   "outputs": [],
   "source": [
    "analysis_comm = analysis_comm[['age_user', 'channels', 'offer_type', 'event_user']]"
   ]
  },
  {
   "cell_type": "code",
   "execution_count": 297,
   "metadata": {},
   "outputs": [],
   "source": [
    "# to drop missing data\n",
    "analysis_comm = analysis_comm[analysis_comm['age_user']!=118]"
   ]
  },
  {
   "cell_type": "code",
   "execution_count": 298,
   "metadata": {},
   "outputs": [],
   "source": [
    "#  split channels into separate columns\n",
    "analysis_comm = pd.concat([analysis_comm, analysis_comm['channels'].str.join('|').str.get_dummies()], axis=1)\n"
   ]
  },
  {
   "cell_type": "code",
   "execution_count": 299,
   "metadata": {},
   "outputs": [],
   "source": [
    "# drop original 'channels' column\n",
    "analysis_comm = analysis_comm.drop('channels', axis=1)"
   ]
  },
  {
   "cell_type": "code",
   "execution_count": 300,
   "metadata": {},
   "outputs": [
    {
     "data": {
      "text/html": [
       "<div>\n",
       "<style scoped>\n",
       "    .dataframe tbody tr th:only-of-type {\n",
       "        vertical-align: middle;\n",
       "    }\n",
       "\n",
       "    .dataframe tbody tr th {\n",
       "        vertical-align: top;\n",
       "    }\n",
       "\n",
       "    .dataframe thead th {\n",
       "        text-align: right;\n",
       "    }\n",
       "</style>\n",
       "<table border=\"1\" class=\"dataframe\">\n",
       "  <thead>\n",
       "    <tr style=\"text-align: right;\">\n",
       "      <th></th>\n",
       "      <th>age_user</th>\n",
       "      <th>offer_type</th>\n",
       "      <th>event_user</th>\n",
       "      <th>email</th>\n",
       "      <th>mobile</th>\n",
       "      <th>social</th>\n",
       "      <th>web</th>\n",
       "    </tr>\n",
       "  </thead>\n",
       "  <tbody>\n",
       "    <tr>\n",
       "      <th>0</th>\n",
       "      <td>75.0</td>\n",
       "      <td>bogo</td>\n",
       "      <td>offer received</td>\n",
       "      <td>1</td>\n",
       "      <td>1</td>\n",
       "      <td>0</td>\n",
       "      <td>1</td>\n",
       "    </tr>\n",
       "    <tr>\n",
       "      <th>1</th>\n",
       "      <td>75.0</td>\n",
       "      <td>bogo</td>\n",
       "      <td>offer viewed</td>\n",
       "      <td>1</td>\n",
       "      <td>1</td>\n",
       "      <td>0</td>\n",
       "      <td>1</td>\n",
       "    </tr>\n",
       "    <tr>\n",
       "      <th>2</th>\n",
       "      <td>75.0</td>\n",
       "      <td>bogo</td>\n",
       "      <td>transaction</td>\n",
       "      <td>1</td>\n",
       "      <td>1</td>\n",
       "      <td>0</td>\n",
       "      <td>1</td>\n",
       "    </tr>\n",
       "    <tr>\n",
       "      <th>3</th>\n",
       "      <td>75.0</td>\n",
       "      <td>bogo</td>\n",
       "      <td>offer completed</td>\n",
       "      <td>1</td>\n",
       "      <td>1</td>\n",
       "      <td>0</td>\n",
       "      <td>1</td>\n",
       "    </tr>\n",
       "    <tr>\n",
       "      <th>4</th>\n",
       "      <td>75.0</td>\n",
       "      <td>bogo</td>\n",
       "      <td>transaction</td>\n",
       "      <td>1</td>\n",
       "      <td>1</td>\n",
       "      <td>0</td>\n",
       "      <td>1</td>\n",
       "    </tr>\n",
       "  </tbody>\n",
       "</table>\n",
       "</div>"
      ],
      "text/plain": [
       "   age_user offer_type       event_user  email  mobile  social  web\n",
       "0      75.0       bogo   offer received      1       1       0    1\n",
       "1      75.0       bogo     offer viewed      1       1       0    1\n",
       "2      75.0       bogo      transaction      1       1       0    1\n",
       "3      75.0       bogo  offer completed      1       1       0    1\n",
       "4      75.0       bogo      transaction      1       1       0    1"
      ]
     },
     "execution_count": 300,
     "metadata": {},
     "output_type": "execute_result"
    }
   ],
   "source": [
    "analysis_comm.head()"
   ]
  },
  {
   "cell_type": "code",
   "execution_count": 301,
   "metadata": {},
   "outputs": [
    {
     "data": {
      "image/png": "[encoded data removed]",
      "text/plain": [
       "<matplotlib.figure.Figure at 0x7f56c180fc88>"
      ]
     },
     "metadata": {
      "needs_background": "light"
     },
     "output_type": "display_data"
    }
   ],
   "source": [
    "# group data by age and communication type\n",
    "grouped = analysis_comm.groupby(['age_user']).sum()\n",
    "\n",
    "# create stacked bar plot with custom figure size\n",
    "fig, ax = plt.subplots(figsize=(15, 8))\n",
    "grouped.plot(kind='bar', stacked=True, ax=ax)\n",
    "\n",
    "# set plot title and axis labels\n",
    "ax.set_title('Preferred communication type by age')\n",
    "ax.set_xlabel('Age')\n",
    "# ax.set_ylabel('Count')\n",
    "\n",
    "# display plot\n",
    "plt.show()"
   ]
  },
  {
   "cell_type": "markdown",
   "metadata": {},
   "source": [
    "**Ages 45 to 75 would like the offer to come by email, but it practically doesn't matter what form of contact it is.**"
   ]
  },
  {
   "cell_type": "markdown",
   "metadata": {},
   "source": [
    "### 4. What kind of offer receives the highest completion rate?"
   ]
  },
  {
   "cell_type": "code",
   "execution_count": 302,
   "metadata": {},
   "outputs": [],
   "source": [
    "completed_offers = analysis_comm[['offer_type','event_user']]"
   ]
  },
  {
   "cell_type": "code",
   "execution_count": 303,
   "metadata": {},
   "outputs": [],
   "source": [
    "completed_offers = completed_offers[completed_offers['event_user'] == 'offer completed']"
   ]
  },
  {
   "cell_type": "code",
   "execution_count": 304,
   "metadata": {},
   "outputs": [
    {
     "data": {
      "text/plain": [
       "offer_type\n",
       "bogo        52191\n",
       "discount    57956\n",
       "Name: event_user, dtype: int64"
      ]
     },
     "execution_count": 304,
     "metadata": {},
     "output_type": "execute_result"
    }
   ],
   "source": [
    "completed_offers.groupby(['offer_type']).count()['event_user'].sort_values().dropna()"
   ]
  },
  {
   "cell_type": "code",
   "execution_count": 305,
   "metadata": {},
   "outputs": [
    {
     "data": {
      "image/png": "[encoded data removed]",
      "text/plain": [
       "<matplotlib.figure.Figure at 0x7f56c180f518>"
      ]
     },
     "metadata": {
      "needs_background": "light"
     },
     "output_type": "display_data"
    }
   ],
   "source": [
    "fig = plt.figure()\n",
    "\n",
    "offer_type = ['bogo', 'discount']\n",
    "count = [51439,56673]\n",
    "plt.bar(offer_type,count)\n",
    "plt.show()"
   ]
  },
  {
   "cell_type": "markdown",
   "metadata": {},
   "source": [
    "**No big surprise! Who wouldn't want a decent discount for their morning coffee :) Perhaps this is why it had a higher completion rate,\n",
    "It's possible that a discount offer for coffee is more appealing to customers**"
   ]
  },
  {
   "cell_type": "markdown",
   "metadata": {},
   "source": [
    "### 5. what is the most offered offer type?"
   ]
  },
  {
   "cell_type": "code",
   "execution_count": 306,
   "metadata": {},
   "outputs": [
    {
     "data": {
      "text/html": [
       "<div>\n",
       "<style scoped>\n",
       "    .dataframe tbody tr th:only-of-type {\n",
       "        vertical-align: middle;\n",
       "    }\n",
       "\n",
       "    .dataframe tbody tr th {\n",
       "        vertical-align: top;\n",
       "    }\n",
       "\n",
       "    .dataframe thead th {\n",
       "        text-align: right;\n",
       "    }\n",
       "</style>\n",
       "<table border=\"1\" class=\"dataframe\">\n",
       "  <thead>\n",
       "    <tr style=\"text-align: right;\">\n",
       "      <th></th>\n",
       "      <th>event</th>\n",
       "      <th>id</th>\n",
       "      <th>time</th>\n",
       "      <th>value</th>\n",
       "    </tr>\n",
       "  </thead>\n",
       "  <tbody>\n",
       "    <tr>\n",
       "      <th>0</th>\n",
       "      <td>offer received</td>\n",
       "      <td>78afa995795e4d85b5d9ceeca43f5fef</td>\n",
       "      <td>0</td>\n",
       "      <td>{'offer id': '9b98b8c7a33c4b65b9aebfe6a799e6d9'}</td>\n",
       "    </tr>\n",
       "    <tr>\n",
       "      <th>1</th>\n",
       "      <td>offer received</td>\n",
       "      <td>a03223e636434f42ac4c3df47e8bac43</td>\n",
       "      <td>0</td>\n",
       "      <td>{'offer id': '0b1e1539f2cc45b7b9fa7c272da2e1d7'}</td>\n",
       "    </tr>\n",
       "    <tr>\n",
       "      <th>2</th>\n",
       "      <td>offer received</td>\n",
       "      <td>e2127556f4f64592b11af22de27a7932</td>\n",
       "      <td>0</td>\n",
       "      <td>{'offer id': '2906b810c7d4411798c6938adc9daaa5'}</td>\n",
       "    </tr>\n",
       "    <tr>\n",
       "      <th>3</th>\n",
       "      <td>offer received</td>\n",
       "      <td>8ec6ce2a7e7949b1bf142def7d0e0586</td>\n",
       "      <td>0</td>\n",
       "      <td>{'offer id': 'fafdcd668e3743c1bb461111dcafc2a4'}</td>\n",
       "    </tr>\n",
       "    <tr>\n",
       "      <th>4</th>\n",
       "      <td>offer received</td>\n",
       "      <td>68617ca6246f4fbc85e91a2a49552598</td>\n",
       "      <td>0</td>\n",
       "      <td>{'offer id': '4d5c57ea9a6940dd891ad53e9dbe8da0'}</td>\n",
       "    </tr>\n",
       "  </tbody>\n",
       "</table>\n",
       "</div>"
      ],
      "text/plain": [
       "            event                                id  time  \\\n",
       "0  offer received  78afa995795e4d85b5d9ceeca43f5fef     0   \n",
       "1  offer received  a03223e636434f42ac4c3df47e8bac43     0   \n",
       "2  offer received  e2127556f4f64592b11af22de27a7932     0   \n",
       "3  offer received  8ec6ce2a7e7949b1bf142def7d0e0586     0   \n",
       "4  offer received  68617ca6246f4fbc85e91a2a49552598     0   \n",
       "\n",
       "                                              value  \n",
       "0  {'offer id': '9b98b8c7a33c4b65b9aebfe6a799e6d9'}  \n",
       "1  {'offer id': '0b1e1539f2cc45b7b9fa7c272da2e1d7'}  \n",
       "2  {'offer id': '2906b810c7d4411798c6938adc9daaa5'}  \n",
       "3  {'offer id': 'fafdcd668e3743c1bb461111dcafc2a4'}  \n",
       "4  {'offer id': '4d5c57ea9a6940dd891ad53e9dbe8da0'}  "
      ]
     },
     "execution_count": 306,
     "metadata": {},
     "output_type": "execute_result"
    }
   ],
   "source": [
    "transcript.head()"
   ]
  },
  {
   "cell_type": "code",
   "execution_count": 307,
   "metadata": {},
   "outputs": [],
   "source": [
    "# extract 'offer id' from each dictionary in 'value' column\n",
    "transcript['offer_id'] = transcript['value'].apply(lambda x: x['offer id'] if 'offer id' in x else None)"
   ]
  },
  {
   "cell_type": "code",
   "execution_count": 308,
   "metadata": {},
   "outputs": [],
   "source": [
    "# display modified DataFrame\n",
    "transcript.drop('value',axis=1,inplace=True)"
   ]
  },
  {
   "cell_type": "code",
   "execution_count": 309,
   "metadata": {},
   "outputs": [],
   "source": [
    "data = transcript['offer_id'].value_counts()"
   ]
  },
  {
   "cell_type": "code",
   "execution_count": 310,
   "metadata": {},
   "outputs": [],
   "source": [
    "data = pd.DataFrame(data)\n",
    "data.reset_index(inplace=True)"
   ]
  },
  {
   "cell_type": "code",
   "execution_count": 311,
   "metadata": {},
   "outputs": [],
   "source": [
    "data = data.rename(columns={'index': \"offer_id\", 'offer_id': \"count\"})"
   ]
  },
  {
   "cell_type": "code",
   "execution_count": 312,
   "metadata": {},
   "outputs": [
    {
     "data": {
      "text/plain": [
       "offer_id    object\n",
       "count        int64\n",
       "dtype: object"
      ]
     },
     "execution_count": 312,
     "metadata": {},
     "output_type": "execute_result"
    }
   ],
   "source": [
    "data.dtypes"
   ]
  },
  {
   "cell_type": "code",
   "execution_count": 313,
   "metadata": {},
   "outputs": [],
   "source": [
    "most_offered = portfolio.merge(data,on = 'offer_id')"
   ]
  },
  {
   "cell_type": "code",
   "execution_count": 314,
   "metadata": {},
   "outputs": [],
   "source": [
    "most_offered = most_offered[['offer_type','count']]"
   ]
  },
  {
   "cell_type": "code",
   "execution_count": 315,
   "metadata": {},
   "outputs": [
    {
     "name": "stdout",
     "output_type": "stream",
     "text": [
      "offer_type\n",
      "bogo             55948\n",
      "discount         51988\n",
      "informational    26066\n",
      "Name: count, dtype: int64\n"
     ]
    }
   ],
   "source": [
    "# group the DataFrame by the 'offer_type' column and compute the sum of the 'count' column\n",
    "total_counts = most_offered.groupby('offer_type')['count'].sum()\n",
    "\n",
    "# print the result\n",
    "print(total_counts)"
   ]
  },
  {
   "cell_type": "code",
   "execution_count": 316,
   "metadata": {},
   "outputs": [
    {
     "data": {
      "image/png": "[encoded data removed]",
      "text/plain": [
       "<matplotlib.figure.Figure at 0x7f56a214ce48>"
      ]
     },
     "metadata": {},
     "output_type": "display_data"
    }
   ],
   "source": [
    "y = np.array([55948, 51988, 26066])\n",
    "mylabels = [\"BOGO\", \"Discount\", \"Informational\"]\n",
    "\n",
    "# create a new figure object with a size of 8x8 inches\n",
    "fig = plt.figure(figsize=(6, 6))\n",
    "\n",
    "# plot the pie chart and set the labels and legend\n",
    "plt.pie(y, labels=mylabels)\n",
    "plt.legend()\n",
    "\n",
    "# show the plot\n",
    "plt.show()"
   ]
  },
  {
   "cell_type": "markdown",
   "metadata": {},
   "source": [
    "**BOGO and our preferred \"Discount\" offer were the two that were most frequently presented, and both of them performed best when there was a greater offer completion rate**"
   ]
  },
  {
   "cell_type": "markdown",
   "metadata": {},
   "source": [
    "## Data Preparation"
   ]
  },
  {
   "cell_type": "code",
   "execution_count": 317,
   "metadata": {},
   "outputs": [
    {
     "data": {
      "text/html": [
       "<div>\n",
       "<style scoped>\n",
       "    .dataframe tbody tr th:only-of-type {\n",
       "        vertical-align: middle;\n",
       "    }\n",
       "\n",
       "    .dataframe tbody tr th {\n",
       "        vertical-align: top;\n",
       "    }\n",
       "\n",
       "    .dataframe thead th {\n",
       "        text-align: right;\n",
       "    }\n",
       "</style>\n",
       "<table border=\"1\" class=\"dataframe\">\n",
       "  <thead>\n",
       "    <tr style=\"text-align: right;\">\n",
       "      <th></th>\n",
       "      <th>age</th>\n",
       "      <th>became_member_on</th>\n",
       "      <th>gender</th>\n",
       "      <th>id</th>\n",
       "      <th>income</th>\n",
       "    </tr>\n",
       "  </thead>\n",
       "  <tbody>\n",
       "    <tr>\n",
       "      <th>0</th>\n",
       "      <td>62.531412</td>\n",
       "      <td>20170212</td>\n",
       "      <td>O</td>\n",
       "      <td>68be06ca386d4c31939f3a4f0e3dd783</td>\n",
       "      <td>65404.991568</td>\n",
       "    </tr>\n",
       "    <tr>\n",
       "      <th>1</th>\n",
       "      <td>55.000000</td>\n",
       "      <td>20170715</td>\n",
       "      <td>F</td>\n",
       "      <td>0610b486422d4921ae7d2bf64640c50b</td>\n",
       "      <td>112000.000000</td>\n",
       "    </tr>\n",
       "    <tr>\n",
       "      <th>3</th>\n",
       "      <td>75.000000</td>\n",
       "      <td>20170509</td>\n",
       "      <td>F</td>\n",
       "      <td>78afa995795e4d85b5d9ceeca43f5fef</td>\n",
       "      <td>100000.000000</td>\n",
       "    </tr>\n",
       "    <tr>\n",
       "      <th>5</th>\n",
       "      <td>68.000000</td>\n",
       "      <td>20180426</td>\n",
       "      <td>M</td>\n",
       "      <td>e2127556f4f64592b11af22de27a7932</td>\n",
       "      <td>70000.000000</td>\n",
       "    </tr>\n",
       "    <tr>\n",
       "      <th>6</th>\n",
       "      <td>62.531412</td>\n",
       "      <td>20170925</td>\n",
       "      <td>O</td>\n",
       "      <td>8ec6ce2a7e7949b1bf142def7d0e0586</td>\n",
       "      <td>65404.991568</td>\n",
       "    </tr>\n",
       "  </tbody>\n",
       "</table>\n",
       "</div>"
      ],
      "text/plain": [
       "         age  became_member_on gender                                id  \\\n",
       "0  62.531412          20170212      O  68be06ca386d4c31939f3a4f0e3dd783   \n",
       "1  55.000000          20170715      F  0610b486422d4921ae7d2bf64640c50b   \n",
       "3  75.000000          20170509      F  78afa995795e4d85b5d9ceeca43f5fef   \n",
       "5  68.000000          20180426      M  e2127556f4f64592b11af22de27a7932   \n",
       "6  62.531412          20170925      O  8ec6ce2a7e7949b1bf142def7d0e0586   \n",
       "\n",
       "          income  \n",
       "0   65404.991568  \n",
       "1  112000.000000  \n",
       "3  100000.000000  \n",
       "5   70000.000000  \n",
       "6   65404.991568  "
      ]
     },
     "execution_count": 317,
     "metadata": {},
     "output_type": "execute_result"
    }
   ],
   "source": [
    "# identify customers who made transactions but did not receive any offers\n",
    "transaction_only = transcript[transcript['event'] == 'transaction']['id'].unique()\n",
    "purchase_only = set(transaction_only) - set(transcript[transcript['event'] == 'offer completed']['id'].unique())\n",
    "\n",
    "# filter profile data to exclude customers who purchase without receiving offers\n",
    "profile_filtered = profile[~profile['id'].isin(purchase_only)]\n",
    "\n",
    "# display filtered profile data\n",
    "profile_filtered.head()"
   ]
  },
  {
   "cell_type": "code",
   "execution_count": 318,
   "metadata": {},
   "outputs": [],
   "source": [
    "# merge profile_filtered and transcript data\n",
    "transcript_filtered = pd.merge(profile_filtered[['id']], transcript, on='id')"
   ]
  },
  {
   "cell_type": "code",
   "execution_count": 319,
   "metadata": {},
   "outputs": [
    {
     "data": {
      "text/html": [
       "<div>\n",
       "<style scoped>\n",
       "    .dataframe tbody tr th:only-of-type {\n",
       "        vertical-align: middle;\n",
       "    }\n",
       "\n",
       "    .dataframe tbody tr th {\n",
       "        vertical-align: top;\n",
       "    }\n",
       "\n",
       "    .dataframe thead th {\n",
       "        text-align: right;\n",
       "    }\n",
       "</style>\n",
       "<table border=\"1\" class=\"dataframe\">\n",
       "  <thead>\n",
       "    <tr style=\"text-align: right;\">\n",
       "      <th></th>\n",
       "      <th>id</th>\n",
       "      <th>event</th>\n",
       "      <th>time</th>\n",
       "      <th>offer_id</th>\n",
       "    </tr>\n",
       "  </thead>\n",
       "  <tbody>\n",
       "    <tr>\n",
       "      <th>0</th>\n",
       "      <td>68be06ca386d4c31939f3a4f0e3dd783</td>\n",
       "      <td>offer received</td>\n",
       "      <td>168</td>\n",
       "      <td>2906b810c7d4411798c6938adc9daaa5</td>\n",
       "    </tr>\n",
       "    <tr>\n",
       "      <th>1</th>\n",
       "      <td>68be06ca386d4c31939f3a4f0e3dd783</td>\n",
       "      <td>offer viewed</td>\n",
       "      <td>216</td>\n",
       "      <td>2906b810c7d4411798c6938adc9daaa5</td>\n",
       "    </tr>\n",
       "    <tr>\n",
       "      <th>2</th>\n",
       "      <td>68be06ca386d4c31939f3a4f0e3dd783</td>\n",
       "      <td>offer received</td>\n",
       "      <td>336</td>\n",
       "      <td>0b1e1539f2cc45b7b9fa7c272da2e1d7</td>\n",
       "    </tr>\n",
       "    <tr>\n",
       "      <th>3</th>\n",
       "      <td>68be06ca386d4c31939f3a4f0e3dd783</td>\n",
       "      <td>offer viewed</td>\n",
       "      <td>348</td>\n",
       "      <td>0b1e1539f2cc45b7b9fa7c272da2e1d7</td>\n",
       "    </tr>\n",
       "    <tr>\n",
       "      <th>4</th>\n",
       "      <td>68be06ca386d4c31939f3a4f0e3dd783</td>\n",
       "      <td>transaction</td>\n",
       "      <td>360</td>\n",
       "      <td>None</td>\n",
       "    </tr>\n",
       "  </tbody>\n",
       "</table>\n",
       "</div>"
      ],
      "text/plain": [
       "                                 id           event  time  \\\n",
       "0  68be06ca386d4c31939f3a4f0e3dd783  offer received   168   \n",
       "1  68be06ca386d4c31939f3a4f0e3dd783    offer viewed   216   \n",
       "2  68be06ca386d4c31939f3a4f0e3dd783  offer received   336   \n",
       "3  68be06ca386d4c31939f3a4f0e3dd783    offer viewed   348   \n",
       "4  68be06ca386d4c31939f3a4f0e3dd783     transaction   360   \n",
       "\n",
       "                           offer_id  \n",
       "0  2906b810c7d4411798c6938adc9daaa5  \n",
       "1  2906b810c7d4411798c6938adc9daaa5  \n",
       "2  0b1e1539f2cc45b7b9fa7c272da2e1d7  \n",
       "3  0b1e1539f2cc45b7b9fa7c272da2e1d7  \n",
       "4                              None  "
      ]
     },
     "execution_count": 319,
     "metadata": {},
     "output_type": "execute_result"
    }
   ],
   "source": [
    "transcript_filtered.head()"
   ]
  },
  {
   "cell_type": "code",
   "execution_count": 320,
   "metadata": {},
   "outputs": [],
   "source": [
    "new_Df = transcript.merge(profile, on='id')"
   ]
  },
  {
   "cell_type": "code",
   "execution_count": 321,
   "metadata": {},
   "outputs": [
    {
     "data": {
      "text/plain": [
       "transaction        138953\n",
       "offer received      76277\n",
       "offer viewed        57725\n",
       "offer completed     33579\n",
       "Name: event, dtype: int64"
      ]
     },
     "execution_count": 321,
     "metadata": {},
     "output_type": "execute_result"
    }
   ],
   "source": [
    "new_Df['event'].value_counts()"
   ]
  },
  {
   "cell_type": "code",
   "execution_count": 322,
   "metadata": {},
   "outputs": [],
   "source": [
    "# wether or not complete it - 33579"
   ]
  },
  {
   "cell_type": "code",
   "execution_count": 323,
   "metadata": {},
   "outputs": [],
   "source": [
    "# encode data to have 1 if 'offer completed' and 0 otherwise \n",
    "# to help predict wether someone will complete the offer or not\n",
    "\n",
    "new_Df['event'] = pd.Series([1 if 'offer completed' in i else 0\n",
    "                            for i in new_Df['event']])\n"
   ]
  },
  {
   "cell_type": "code",
   "execution_count": 324,
   "metadata": {},
   "outputs": [
    {
     "data": {
      "text/plain": [
       "event                    0\n",
       "id                       0\n",
       "time                     0\n",
       "offer_id            172532\n",
       "age                      0\n",
       "became_member_on         0\n",
       "gender                   0\n",
       "income                   0\n",
       "dtype: int64"
      ]
     },
     "execution_count": 324,
     "metadata": {},
     "output_type": "execute_result"
    }
   ],
   "source": [
    "new_Df.isnull().sum()"
   ]
  },
  {
   "cell_type": "code",
   "execution_count": 325,
   "metadata": {},
   "outputs": [],
   "source": [
    "new_Df = new_Df.drop('offer_id', axis=1)"
   ]
  },
  {
   "cell_type": "code",
   "execution_count": 326,
   "metadata": {},
   "outputs": [],
   "source": [
    "# encoding and scaling \n",
    "# using label encoder to handle categorical data by encoding them\n",
    "# Used standard scaler to scale data to prevent any bias\n",
    "new_Df = new_Df.apply(LabelEncoder().fit_transform)\n",
    "scaler = StandardScaler()\n",
    "scaler.fit_transform(new_Df)\n",
    "new_Df = pd.DataFrame(new_Df)"
   ]
  },
  {
   "cell_type": "code",
   "execution_count": 327,
   "metadata": {},
   "outputs": [
    {
     "name": "stdout",
     "output_type": "stream",
     "text": [
      "Index(['time', 'gender', 'income'], dtype='object')\n"
     ]
    }
   ],
   "source": [
    "# Separate the features and target variable\n",
    "X = new_Df.drop('event', axis=1)\n",
    "y = new_Df['event']\n",
    "\n",
    "# Use mutual information to select the top k features\n",
    "k = 3 # Set the number of top features to select\n",
    "selector = SelectKBest(mutual_info_classif, k=k)\n",
    "selector.fit(X, y)\n",
    "\n",
    "# Get the indices of the selected features\n",
    "selected_features_indices = selector.get_support(indices=True)\n",
    "\n",
    "# Get the names of the selected features\n",
    "selected_features_names = X.columns[selected_features_indices]\n",
    "\n",
    "# Print the names of the selected features\n",
    "print(selected_features_names)"
   ]
  },
  {
   "cell_type": "markdown",
   "metadata": {},
   "source": [
    "# Modeling & Visualisation"
   ]
  },
  {
   "cell_type": "markdown",
   "metadata": {},
   "source": [
    "## KNN"
   ]
  },
  {
   "cell_type": "markdown",
   "metadata": {},
   "source": [
    "***Using best 3 features***"
   ]
  },
  {
   "cell_type": "code",
   "execution_count": 361,
   "metadata": {},
   "outputs": [],
   "source": [
    "# Using best 3 features recommended\n",
    "X = new_Df[['time', 'gender', 'income']]\n",
    "y = new_Df['event']\n",
    "\n",
    "# split the data into training and testing sets\n",
    "X_3_train, X_3_test, y_3_train, y_3_test = train_test_split(X, y, test_size=0.3, random_state=42)\n",
    "\n",
    "# KNN Classifier\n",
    "knn = KNeighborsClassifier()"
   ]
  },
  {
   "cell_type": "code",
   "execution_count": 362,
   "metadata": {},
   "outputs": [
    {
     "name": "stdout",
     "output_type": "stream",
     "text": [
      "Cross-validation scores: [ 0.87738839  0.8740796   0.8828875   0.86890059  0.87617095  0.87733607\n",
      "  0.8805052   0.87551848  0.87416694  0.87603113]\n",
      "Mean cross-validation score: 0.876298483686\n",
      "Standard deviation of cross-validation scores: 0.0035814514761\n",
      "Accuracy score on testing data: 87.4457650526\n"
     ]
    }
   ],
   "source": [
    "# Perform 10-fold cross-validation on the training set\n",
    "kf = KFold(n_splits=10, shuffle=True, random_state=42)\n",
    "cv_scores = cross_val_score(knn, X_3_train, y_3_train, cv=kf)\n",
    "\n",
    "# Print the cross-validation scores for each fold\n",
    "print(\"Cross-validation scores:\", cv_scores)\n",
    "\n",
    "# Compute the mean and standard deviation of the cross-validation scores\n",
    "mean_score = cv_scores.mean()\n",
    "std_score = cv_scores.std()\n",
    "print(\"Mean cross-validation score:\", mean_score)\n",
    "print(\"Standard deviation of cross-validation scores:\", std_score)\n",
    "\n",
    "# Fit the classifier to the training data\n",
    "knn.fit(X_3_train, y_3_train)\n",
    "\n",
    "# Predict the classes for the testing data\n",
    "y_pred = knn.predict(X_3_test)\n",
    "\n",
    "# Compute the accuracy score of the model on the testing data\n",
    "accuracy = accuracy_score(y_3_test, y_pred)\n",
    "\n",
    "# Print the accuracy score\n",
    "print(\"Accuracy score on testing data:\", accuracy*100)"
   ]
  },
  {
   "cell_type": "code",
   "execution_count": 329,
   "metadata": {},
   "outputs": [
    {
     "name": "stdout",
     "output_type": "stream",
     "text": [
      "             precision    recall  f1-score   support\n",
      "\n",
      "          0       0.89      0.98      0.93     81778\n",
      "          1       0.17      0.03      0.06     10183\n",
      "\n",
      "avg / total       0.81      0.87      0.84     91961\n",
      "\n"
     ]
    }
   ],
   "source": [
    "# Generate a classification report\n",
    "knn_report = classification_report(y_3_test,y_3_pred)\n",
    "print(knn_report)"
   ]
  },
  {
   "cell_type": "code",
   "execution_count": 330,
   "metadata": {},
   "outputs": [
    {
     "data": {
      "image/png": "[encoded data removed]",
      "text/plain": [
       "<matplotlib.figure.Figure at 0x7f56c17c3940>"
      ]
     },
     "metadata": {
      "needs_background": "light"
     },
     "output_type": "display_data"
    }
   ],
   "source": [
    "# Generate a confusion matrix\n",
    "knn_matrix = confusion_matrix(y_3_test,y_3_pred)\n",
    "plt.figure(figsize=(7,5))\n",
    "plt.title('Confusion Matrix for KNN')\n",
    "sns.heatmap(knn_matrix , annot=True,xticklabels=[\"not_complete\", \"complete\"],\n",
    "           yticklabels=[\"not_complete\", \"complete\"],fmt='g')\n",
    "plt.xlabel('Predicted')\n",
    "plt.ylabel('Correct Label')\n",
    "\n",
    "plt.show()"
   ]
  },
  {
   "cell_type": "markdown",
   "metadata": {},
   "source": [
    "***Using all features***"
   ]
  },
  {
   "cell_type": "code",
   "execution_count": 331,
   "metadata": {},
   "outputs": [
    {
     "name": "stdout",
     "output_type": "stream",
     "text": [
      "accuracy of model is 88.55 %\n"
     ]
    }
   ],
   "source": [
    "# Using best all features\n",
    "X = new_Df.drop('event', axis=1)\n",
    "y = new_Df['event']\n",
    "\n",
    "# split the data into training and testing sets\n",
    "X_train, X_test, y_train, y_test = train_test_split(X, y, test_size=0.3, random_state=42)\n",
    "\n",
    "# KNN Classifier\n",
    "knn = KNeighborsClassifier()\n",
    "\n",
    "# Train the model\n",
    "knn.fit(X_train, y_train)\n",
    "\n",
    "# test the model\n",
    "knn_y_pred = knn.predict(X_test)\n",
    "\n",
    "# scores\n",
    "print('accuracy of model is',\"{:,.2f}\".format(accuracy_score(y_test,knn_y_pred)*100),'%')"
   ]
  },
  {
   "cell_type": "code",
   "execution_count": 332,
   "metadata": {},
   "outputs": [
    {
     "name": "stdout",
     "output_type": "stream",
     "text": [
      "             precision    recall  f1-score   support\n",
      "\n",
      "          0       0.89      1.00      0.94     81778\n",
      "          1       0.01      0.00      0.00     10183\n",
      "\n",
      "avg / total       0.79      0.89      0.84     91961\n",
      "\n"
     ]
    }
   ],
   "source": [
    "# Generate a classification report\n",
    "knn_report = classification_report(y_test,knn_y_pred)\n",
    "print(knn_report)"
   ]
  },
  {
   "cell_type": "code",
   "execution_count": 333,
   "metadata": {},
   "outputs": [
    {
     "data": {
      "image/png": "[encoded data removed]",
      "text/plain": [
       "<matplotlib.figure.Figure at 0x7f56a2245a90>"
      ]
     },
     "metadata": {
      "needs_background": "light"
     },
     "output_type": "display_data"
    }
   ],
   "source": [
    "# Generate a confusion matrix\n",
    "knn_matrix = confusion_matrix(y_test,knn_y_pred)\n",
    "plt.figure(figsize=(7,5))\n",
    "plt.title('Confusion Matrix for KNN')\n",
    "sns.heatmap(knn_matrix , annot=True,xticklabels=[\"not_complete\", \"complete\"],\n",
    "           yticklabels=[\"not_complete\", \"complete\"],fmt='g')\n",
    "plt.xlabel('Predicted')\n",
    "plt.ylabel('Correct Label')\n",
    "\n",
    "plt.show()"
   ]
  },
  {
   "cell_type": "markdown",
   "metadata": {},
   "source": [
    "**Because the improvement in accuracy wasn't very significant, the other aspects didn't have a significant impact on it.**"
   ]
  },
  {
   "cell_type": "markdown",
   "metadata": {},
   "source": [
    "## Logistic Regression"
   ]
  },
  {
   "cell_type": "code",
   "execution_count": 347,
   "metadata": {},
   "outputs": [],
   "source": [
    "# Create and fit the logistic regression model\n",
    "lm = LogisticRegression()"
   ]
  },
  {
   "cell_type": "code",
   "execution_count": 348,
   "metadata": {},
   "outputs": [
    {
     "name": "stdout",
     "output_type": "stream",
     "text": [
      "Cross-validation scores: [ 0.89295368  0.88922546  0.89542362  0.8853987   0.89131752  0.890199\n",
      "  0.89439344  0.89192338  0.8873095   0.89150394]\n",
      "Mean cross-validation score: 0.89096482452\n",
      "Standard deviation of cross-validation scores: 0.00291342692424\n",
      "Accuracy score on testing data: 88.926827677\n"
     ]
    }
   ],
   "source": [
    "# Perform 10-fold cross-validation on the training set\n",
    "kf = KFold(n_splits=10, shuffle=True, random_state=42)\n",
    "cv_scores = cross_val_score(lm, X_3_train, y_3_train, cv=kf)\n",
    "\n",
    "# Print the cross-validation scores for each fold\n",
    "print(\"Cross-validation scores:\", cv_scores)\n",
    "\n",
    "# Compute the mean and standard deviation of the cross-validation scores\n",
    "mean_score = cv_scores.mean()\n",
    "std_score = cv_scores.std()\n",
    "print(\"Mean cross-validation score:\", mean_score)\n",
    "print(\"Standard deviation of cross-validation scores:\", std_score)\n",
    "\n",
    "# Fit the classifier to the training data\n",
    "lm.fit(X_3_train, y_3_train)\n",
    "\n",
    "# Predict the classes for the testing data\n",
    "y_pred = lm.predict(X_3_test)\n",
    "\n",
    "# Compute the accuracy score of the model on the testing data\n",
    "accuracy = accuracy_score(y_3_test, y_pred)\n",
    "\n",
    "# Print the accuracy score\n",
    "print(\"Accuracy score on testing data:\", accuracy*100)"
   ]
  },
  {
   "cell_type": "code",
   "execution_count": 349,
   "metadata": {},
   "outputs": [
    {
     "name": "stdout",
     "output_type": "stream",
     "text": [
      "             precision    recall  f1-score   support\n",
      "\n",
      "          0       0.89      1.00      0.94     81778\n",
      "          1       0.00      0.00      0.00     10183\n",
      "\n",
      "avg / total       0.79      0.89      0.84     91961\n",
      "\n"
     ]
    },
    {
     "name": "stderr",
     "output_type": "stream",
     "text": [
      "/opt/conda/lib/python3.6/site-packages/sklearn/metrics/classification.py:1135: UndefinedMetricWarning: Precision and F-score are ill-defined and being set to 0.0 in labels with no predicted samples.\n",
      "  'precision', 'predicted', average, warn_for)\n"
     ]
    }
   ],
   "source": [
    "LM_report = classification_report(y_3_test,lm_y_3_pred)\n",
    "print(LM_report)"
   ]
  },
  {
   "cell_type": "code",
   "execution_count": 336,
   "metadata": {},
   "outputs": [
    {
     "data": {
      "image/png": "[encoded data removed]",
      "text/plain": [
       "<matplotlib.figure.Figure at 0x7f56a22418d0>"
      ]
     },
     "metadata": {
      "needs_background": "light"
     },
     "output_type": "display_data"
    }
   ],
   "source": [
    "# Generate a confusion matrix\n",
    "lm_matrix = confusion_matrix(y_3_test,lm_y_3_pred)\n",
    "plt.figure(figsize=(7,5))\n",
    "plt.title('Confusion Matrix for Logistic Regression')\n",
    "sns.heatmap(lm_matrix , annot=True,xticklabels=[\"not_complete\", \"complete\"],\n",
    "           yticklabels=[\"not_complete\", \"complete\"],fmt='g')\n",
    "plt.xlabel('Predicted')\n",
    "plt.ylabel('Correct Label')\n",
    "\n",
    "plt.show()"
   ]
  },
  {
   "cell_type": "markdown",
   "metadata": {},
   "source": [
    "## Bayesian Classifier"
   ]
  },
  {
   "cell_type": "code",
   "execution_count": 356,
   "metadata": {},
   "outputs": [],
   "source": [
    "bayesian_classifier = GaussianNB()"
   ]
  },
  {
   "cell_type": "code",
   "execution_count": 358,
   "metadata": {},
   "outputs": [
    {
     "name": "stdout",
     "output_type": "stream",
     "text": [
      "Cross-validation scores: [ 0.89295368  0.88922546  0.89542362  0.8853987   0.89131752  0.890199\n",
      "  0.89439344  0.89192338  0.8873095   0.89150394]\n",
      "Mean cross-validation score: 0.89096482452\n",
      "Standard deviation of cross-validation scores: 0.00291342692424\n",
      "Accuracy score on testing data: 88.926827677\n"
     ]
    }
   ],
   "source": [
    "# Perform 10-fold cross-validation on the training set\n",
    "kf = KFold(n_splits=10, shuffle=True, random_state=42)\n",
    "cv_scores = cross_val_score(bayesian_classifier, X_3_train, y_3_train, cv=kf)\n",
    "\n",
    "# Print the cross-validation scores for each fold\n",
    "print(\"Cross-validation scores:\", cv_scores)\n",
    "\n",
    "# Compute the mean and standard deviation of the cross-validation scores\n",
    "mean_score = cv_scores.mean()\n",
    "std_score = cv_scores.std()\n",
    "print(\"Mean cross-validation score:\", mean_score)\n",
    "print(\"Standard deviation of cross-validation scores:\", std_score)\n",
    "\n",
    "# Fit the classifier to the training data\n",
    "bayesian_classifier.fit(X_3_train, y_3_train)\n",
    "\n",
    "# Predict the classes for the testing data\n",
    "y_pred = bayesian_classifier.predict(X_3_test)\n",
    "\n",
    "# Compute the accuracy score of the model on the testing data\n",
    "accuracy = accuracy_score(y_3_test, y_pred)\n",
    "\n",
    "# Print the accuracy score\n",
    "print(\"Accuracy score on testing data:\", accuracy*100)"
   ]
  },
  {
   "cell_type": "code",
   "execution_count": 359,
   "metadata": {},
   "outputs": [
    {
     "name": "stdout",
     "output_type": "stream",
     "text": [
      "             precision    recall  f1-score   support\n",
      "\n",
      "          0       0.89      1.00      0.94     81778\n",
      "          1       0.00      0.00      0.00     10183\n",
      "\n",
      "avg / total       0.79      0.89      0.84     91961\n",
      "\n"
     ]
    },
    {
     "name": "stderr",
     "output_type": "stream",
     "text": [
      "/opt/conda/lib/python3.6/site-packages/sklearn/metrics/classification.py:1135: UndefinedMetricWarning: Precision and F-score are ill-defined and being set to 0.0 in labels with no predicted samples.\n",
      "  'precision', 'predicted', average, warn_for)\n"
     ]
    }
   ],
   "source": [
    "bayesian_classifier_classification_report = classification_report(y_3_test,bc_y_3_pred)\n",
    "print(bayesian_classifier_classification_report)"
   ]
  },
  {
   "cell_type": "code",
   "execution_count": 360,
   "metadata": {},
   "outputs": [
    {
     "data": {
      "image/png": "[encoded data removed]",
      "text/plain": [
       "<matplotlib.figure.Figure at 0x7f56a2713b70>"
      ]
     },
     "metadata": {
      "needs_background": "light"
     },
     "output_type": "display_data"
    }
   ],
   "source": [
    "# Generate a confusion matrix\n",
    "bc_matrix = confusion_matrix(y_3_test,bc_y_3_pred)\n",
    "plt.figure(figsize=(7,5))\n",
    "plt.title('Confusion Matrix for Bayesian Classifier')\n",
    "sns.heatmap(bc_matrix , annot=True,xticklabels=[\"not_complete\", \"complete\"],\n",
    "           yticklabels=[\"not_complete\", \"complete\"],fmt='g')\n",
    "plt.xlabel('Predicted')\n",
    "plt.ylabel('Correct Label')\n",
    "\n",
    "plt.show()"
   ]
  },
  {
   "cell_type": "markdown",
   "metadata": {},
   "source": [
    "# Compare Models accuracy based"
   ]
  },
  {
   "cell_type": "code",
   "execution_count": 340,
   "metadata": {},
   "outputs": [
    {
     "data": {
      "text/html": [
       "<div>\n",
       "<style scoped>\n",
       "    .dataframe tbody tr th:only-of-type {\n",
       "        vertical-align: middle;\n",
       "    }\n",
       "\n",
       "    .dataframe tbody tr th {\n",
       "        vertical-align: top;\n",
       "    }\n",
       "\n",
       "    .dataframe thead th {\n",
       "        text-align: right;\n",
       "    }\n",
       "</style>\n",
       "<table border=\"1\" class=\"dataframe\">\n",
       "  <thead>\n",
       "    <tr style=\"text-align: right;\">\n",
       "      <th></th>\n",
       "      <th>Models</th>\n",
       "      <th>Accuracy</th>\n",
       "    </tr>\n",
       "  </thead>\n",
       "  <tbody>\n",
       "    <tr>\n",
       "      <th>0</th>\n",
       "      <td>KNN</td>\n",
       "      <td>87.45</td>\n",
       "    </tr>\n",
       "    <tr>\n",
       "      <th>1</th>\n",
       "      <td>Logistic Regression</td>\n",
       "      <td>88.93</td>\n",
       "    </tr>\n",
       "    <tr>\n",
       "      <th>2</th>\n",
       "      <td>Bayesian Classifier</td>\n",
       "      <td>88.93</td>\n",
       "    </tr>\n",
       "  </tbody>\n",
       "</table>\n",
       "</div>"
      ],
      "text/plain": [
       "                Models  Accuracy\n",
       "0                  KNN     87.45\n",
       "1  Logistic Regression     88.93\n",
       "2  Bayesian Classifier     88.93"
      ]
     },
     "execution_count": 340,
     "metadata": {},
     "output_type": "execute_result"
    }
   ],
   "source": [
    "Models_Scores = pd.DataFrame({'Models':['KNN','Logistic Regression','Bayesian Classifier'],\n",
    "             'Accuracy':[87.45,88.93,88.93]\n",
    "                             })\n",
    "Models_Scores"
   ]
  },
  {
   "cell_type": "code",
   "execution_count": 341,
   "metadata": {},
   "outputs": [
    {
     "data": {
      "image/png": "[encoded data removed]",
      "text/plain": [
       "<matplotlib.figure.Figure at 0x7f56c1583ba8>"
      ]
     },
     "metadata": {
      "needs_background": "light"
     },
     "output_type": "display_data"
    }
   ],
   "source": [
    "plt.figure(figsize=(7,5))\n",
    "plt.title('Models Comparison Accuracy based')\n",
    "figure = sns.barplot(x = Models_Scores['Models'],y = Models_Scores['Accuracy'])"
   ]
  },
  {
   "cell_type": "markdown",
   "metadata": {},
   "source": [
    "**The differences in accuracy between the models are relatively small, with logistic regression and Bayesian classifier slightly outperforming KNN**"
   ]
  },
  {
   "cell_type": "code",
   "execution_count": null,
   "metadata": {},
   "outputs": [],
   "source": []
  }
 ],
 "metadata": {
  "kernelspec": {
   "display_name": "Python 3",
   "language": "python",
   "name": "python3"
  },
  "language_info": {
   "codemirror_mode": {
    "name": "ipython",
    "version": 3
   },
   "file_extension": ".py",
   "mimetype": "text/x-python",
   "name": "python",
   "nbconvert_exporter": "python",
   "pygments_lexer": "ipython3",
   "version": "3.6.3"
  }
 },
 "nbformat": 4,
 "nbformat_minor": 2
}
